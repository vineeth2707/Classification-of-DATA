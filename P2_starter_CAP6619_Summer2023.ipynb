{
  "nbformat": 4,
  "nbformat_minor": 0,
  "metadata": {
    "kernelspec": {
      "display_name": "Python 3",
      "language": "python",
      "name": "python3"
    },
    "language_info": {
      "codemirror_mode": {
        "name": "ipython",
        "version": 3
      },
      "file_extension": ".py",
      "mimetype": "text/x-python",
      "name": "python",
      "nbconvert_exporter": "python",
      "pygments_lexer": "ipython3",
      "version": "3.6.5"
    },
    "colab": {
      "provenance": [],
      "toc_visible": true,
      "include_colab_link": true
    },
    "accelerator": "GPU"
  },
  "cells": [
    {
      "cell_type": "markdown",
      "metadata": {
        "id": "view-in-github",
        "colab_type": "text"
      },
      "source": [
        "<a href=\"https://colab.research.google.com/github/vineeth2707/Classification-of-DATA/blob/main/P2_starter_CAP6619_Summer2023.ipynb\" target=\"_parent\"><img src=\"https://colab.research.google.com/assets/colab-badge.svg\" alt=\"Open In Colab\"/></a>"
      ]
    },
    {
      "cell_type": "markdown",
      "metadata": {
        "id": "Whf_8TEO-6qX"
      },
      "source": [
        "# CAP 6619 - Deep Learning\n",
        "## Dr Marques\n",
        "## Project 2\n",
        "\n",
        "Deep learning solutions for:\n",
        "- Binary classification of movie reviews using the IMDB dataset\n",
        "- Multiclass classification of newswires using the Reuters dataset\n",
        "- Regression for house price estimation using the Boston Housing Price dataset\n",
        "\n",
        "Total number of points: 100 (+ 15 optional bonus points), as indicated."
      ]
    },
    {
      "cell_type": "markdown",
      "source": [
        "**Include your name here:** (Saivineeth Suram)\n",
        "\n",
        "**Include 'shared link' to 'your' final version of this NB here:** (https://colab.research.google.com/drive/1efHYekGn892d3DwHYu2Rp-ri8sdFaL4x?authuser=1#scrollTo=8SoeBbpo3brk)\n",
        "\n",
        "*Expand all notebook bocks/sections and ensure code has properly executed, save as pdf(above left menu) when completed to submit to Canvas.*"
      ],
      "metadata": {
        "id": "S3hXMDuZqG1w"
      }
    },
    {
      "cell_type": "markdown",
      "metadata": {
        "id": "32AXUOrLxvoD"
      },
      "source": [
        "Useful references and sources:\n",
        "\n",
        "- https://keras.io/api/datasets/imdb/\n",
        "- https://www.tensorflow.org/datasets/catalog/imdb_reviews\n",
        "- https://www.tensorflow.org/tutorials/keras/text_classification_with_hub\n",
        "- https://colab.research.google.com/github/fchollet/deep-learning-with-python-notebooks/blob/master/chapter04_getting-started-with-neural-networks.ipynb\n",
        "- https://developers.google.com/machine-learning/guides/text-classification/\n",
        "- https://keras.io/api/datasets/boston_housing/\n"
      ]
    },
    {
      "cell_type": "markdown",
      "metadata": {
        "id": "o_i0NIxeykr0"
      },
      "source": [
        "##### **Cite your sources** *(OPTIONAL if none used beyond those above)*\n",
        "\n",
        "Add your own sources and references here."
      ]
    },
    {
      "cell_type": "markdown",
      "metadata": {
        "id": "2u-hfaHC-6qb"
      },
      "source": [
        "## Setup"
      ]
    },
    {
      "cell_type": "code",
      "metadata": {
        "id": "1H7CSr4a-6qb"
      },
      "source": [
        "from tensorflow import keras\n",
        "from keras.datasets import mnist\n",
        "from keras.models import Sequential\n",
        "from keras.layers import Dense\n",
        "from tensorflow.keras.optimizers import SGD\n",
        "from tensorflow.keras import layers\n",
        "from matplotlib import pyplot as plt\n",
        "import numpy as np"
      ],
      "execution_count": null,
      "outputs": []
    },
    {
      "cell_type": "markdown",
      "metadata": {
        "id": "BEn1cfWJ-6rH"
      },
      "source": [
        "## PART 1 - Binary classification of movie reviews using the IMDB dataset\n",
        "\n",
        "We will start with a simple solution using a fully-connected neural network architecture."
      ]
    },
    {
      "cell_type": "markdown",
      "metadata": {
        "id": "dxNd2jV5-6qg"
      },
      "source": [
        "### Load and prepare the data"
      ]
    },
    {
      "cell_type": "code",
      "metadata": {
        "id": "EgbHPf85SWy8",
        "colab": {
          "base_uri": "https://localhost:8080/"
        },
        "outputId": "02550e44-feba-4264-b6a3-a9cba3c02316"
      },
      "source": [
        "from tensorflow.keras.datasets import imdb\n",
        "(train_data, train_labels), (test_data, test_labels) = imdb.load_data(\n",
        "    num_words=10000)"
      ],
      "execution_count": null,
      "outputs": [
        {
          "output_type": "stream",
          "name": "stdout",
          "text": [
            "Downloading data from https://storage.googleapis.com/tensorflow/tf-keras-datasets/imdb.npz\n",
            "17464789/17464789 [==============================] - 2s 0us/step\n"
          ]
        }
      ]
    },
    {
      "cell_type": "code",
      "metadata": {
        "id": "Gm-ng4uVSWy9",
        "colab": {
          "base_uri": "https://localhost:8080/"
        },
        "outputId": "e3f2d8dc-cb84-4fe4-f6df-146656f5a112"
      },
      "source": [
        "train_data[0]"
      ],
      "execution_count": null,
      "outputs": [
        {
          "output_type": "execute_result",
          "data": {
            "text/plain": [
              "[1,\n",
              " 14,\n",
              " 22,\n",
              " 16,\n",
              " 43,\n",
              " 530,\n",
              " 973,\n",
              " 1622,\n",
              " 1385,\n",
              " 65,\n",
              " 458,\n",
              " 4468,\n",
              " 66,\n",
              " 3941,\n",
              " 4,\n",
              " 173,\n",
              " 36,\n",
              " 256,\n",
              " 5,\n",
              " 25,\n",
              " 100,\n",
              " 43,\n",
              " 838,\n",
              " 112,\n",
              " 50,\n",
              " 670,\n",
              " 2,\n",
              " 9,\n",
              " 35,\n",
              " 480,\n",
              " 284,\n",
              " 5,\n",
              " 150,\n",
              " 4,\n",
              " 172,\n",
              " 112,\n",
              " 167,\n",
              " 2,\n",
              " 336,\n",
              " 385,\n",
              " 39,\n",
              " 4,\n",
              " 172,\n",
              " 4536,\n",
              " 1111,\n",
              " 17,\n",
              " 546,\n",
              " 38,\n",
              " 13,\n",
              " 447,\n",
              " 4,\n",
              " 192,\n",
              " 50,\n",
              " 16,\n",
              " 6,\n",
              " 147,\n",
              " 2025,\n",
              " 19,\n",
              " 14,\n",
              " 22,\n",
              " 4,\n",
              " 1920,\n",
              " 4613,\n",
              " 469,\n",
              " 4,\n",
              " 22,\n",
              " 71,\n",
              " 87,\n",
              " 12,\n",
              " 16,\n",
              " 43,\n",
              " 530,\n",
              " 38,\n",
              " 76,\n",
              " 15,\n",
              " 13,\n",
              " 1247,\n",
              " 4,\n",
              " 22,\n",
              " 17,\n",
              " 515,\n",
              " 17,\n",
              " 12,\n",
              " 16,\n",
              " 626,\n",
              " 18,\n",
              " 2,\n",
              " 5,\n",
              " 62,\n",
              " 386,\n",
              " 12,\n",
              " 8,\n",
              " 316,\n",
              " 8,\n",
              " 106,\n",
              " 5,\n",
              " 4,\n",
              " 2223,\n",
              " 5244,\n",
              " 16,\n",
              " 480,\n",
              " 66,\n",
              " 3785,\n",
              " 33,\n",
              " 4,\n",
              " 130,\n",
              " 12,\n",
              " 16,\n",
              " 38,\n",
              " 619,\n",
              " 5,\n",
              " 25,\n",
              " 124,\n",
              " 51,\n",
              " 36,\n",
              " 135,\n",
              " 48,\n",
              " 25,\n",
              " 1415,\n",
              " 33,\n",
              " 6,\n",
              " 22,\n",
              " 12,\n",
              " 215,\n",
              " 28,\n",
              " 77,\n",
              " 52,\n",
              " 5,\n",
              " 14,\n",
              " 407,\n",
              " 16,\n",
              " 82,\n",
              " 2,\n",
              " 8,\n",
              " 4,\n",
              " 107,\n",
              " 117,\n",
              " 5952,\n",
              " 15,\n",
              " 256,\n",
              " 4,\n",
              " 2,\n",
              " 7,\n",
              " 3766,\n",
              " 5,\n",
              " 723,\n",
              " 36,\n",
              " 71,\n",
              " 43,\n",
              " 530,\n",
              " 476,\n",
              " 26,\n",
              " 400,\n",
              " 317,\n",
              " 46,\n",
              " 7,\n",
              " 4,\n",
              " 2,\n",
              " 1029,\n",
              " 13,\n",
              " 104,\n",
              " 88,\n",
              " 4,\n",
              " 381,\n",
              " 15,\n",
              " 297,\n",
              " 98,\n",
              " 32,\n",
              " 2071,\n",
              " 56,\n",
              " 26,\n",
              " 141,\n",
              " 6,\n",
              " 194,\n",
              " 7486,\n",
              " 18,\n",
              " 4,\n",
              " 226,\n",
              " 22,\n",
              " 21,\n",
              " 134,\n",
              " 476,\n",
              " 26,\n",
              " 480,\n",
              " 5,\n",
              " 144,\n",
              " 30,\n",
              " 5535,\n",
              " 18,\n",
              " 51,\n",
              " 36,\n",
              " 28,\n",
              " 224,\n",
              " 92,\n",
              " 25,\n",
              " 104,\n",
              " 4,\n",
              " 226,\n",
              " 65,\n",
              " 16,\n",
              " 38,\n",
              " 1334,\n",
              " 88,\n",
              " 12,\n",
              " 16,\n",
              " 283,\n",
              " 5,\n",
              " 16,\n",
              " 4472,\n",
              " 113,\n",
              " 103,\n",
              " 32,\n",
              " 15,\n",
              " 16,\n",
              " 5345,\n",
              " 19,\n",
              " 178,\n",
              " 32]"
            ]
          },
          "metadata": {},
          "execution_count": 3
        }
      ]
    },
    {
      "cell_type": "code",
      "metadata": {
        "id": "T_UQLHcbSWy9",
        "colab": {
          "base_uri": "https://localhost:8080/"
        },
        "outputId": "66e91068-8e39-40f3-efe5-2cc6d5cf606f"
      },
      "source": [
        "train_labels[0]"
      ],
      "execution_count": null,
      "outputs": [
        {
          "output_type": "execute_result",
          "data": {
            "text/plain": [
              "1"
            ]
          },
          "metadata": {},
          "execution_count": 4
        }
      ]
    },
    {
      "cell_type": "code",
      "metadata": {
        "id": "OkzPHbDISWy-",
        "colab": {
          "base_uri": "https://localhost:8080/"
        },
        "outputId": "7c2ac009-7745-4f37-dca7-c26ec4f4ba4e"
      },
      "source": [
        "max([max(sequence) for sequence in train_data])"
      ],
      "execution_count": null,
      "outputs": [
        {
          "output_type": "execute_result",
          "data": {
            "text/plain": [
              "9999"
            ]
          },
          "metadata": {},
          "execution_count": 5
        }
      ]
    },
    {
      "cell_type": "markdown",
      "metadata": {
        "id": "a14ENstYSWy-"
      },
      "source": [
        "### Decoding reviews back to text"
      ]
    },
    {
      "cell_type": "code",
      "metadata": {
        "id": "a1t1h2AgSWy-",
        "colab": {
          "base_uri": "https://localhost:8080/"
        },
        "outputId": "c64aa257-30ce-488a-a8b8-cdf897a4d57a"
      },
      "source": [
        "word_index = imdb.get_word_index()\n",
        "reverse_word_index = dict(\n",
        "    [(value, key) for (key, value) in word_index.items()])\n",
        "decoded_review = \" \".join(\n",
        "    [reverse_word_index.get(i - 3, \"?\") for i in train_data[0]])"
      ],
      "execution_count": null,
      "outputs": [
        {
          "output_type": "stream",
          "name": "stdout",
          "text": [
            "Downloading data from https://storage.googleapis.com/tensorflow/tf-keras-datasets/imdb_word_index.json\n",
            "1641221/1641221 [==============================] - 1s 1us/step\n"
          ]
        }
      ]
    },
    {
      "cell_type": "markdown",
      "metadata": {
        "id": "w9hkDy4ESWy_"
      },
      "source": [
        "### Preparing the data"
      ]
    },
    {
      "cell_type": "markdown",
      "metadata": {
        "id": "Qjq7wFSISWy_"
      },
      "source": [
        "#### Encoding the integer sequences via multi-hot encoding"
      ]
    },
    {
      "cell_type": "code",
      "metadata": {
        "id": "nZD-izxWSWy_"
      },
      "source": [
        "import numpy as np\n",
        "def vectorize_sequences(sequences, dimension=10000):\n",
        "    results = np.zeros((len(sequences), dimension))\n",
        "    for i, sequence in enumerate(sequences):\n",
        "        for j in sequence:\n",
        "            results[i, j] = 1.\n",
        "    return results\n",
        "x_train = vectorize_sequences(train_data)\n",
        "x_test = vectorize_sequences(test_data)"
      ],
      "execution_count": null,
      "outputs": []
    },
    {
      "cell_type": "code",
      "metadata": {
        "id": "1HXEpTCfSWy_",
        "colab": {
          "base_uri": "https://localhost:8080/"
        },
        "outputId": "e22d904a-9513-4df8-a8ad-18d52aeed83b"
      },
      "source": [
        "x_train[0]"
      ],
      "execution_count": null,
      "outputs": [
        {
          "output_type": "execute_result",
          "data": {
            "text/plain": [
              "array([0., 1., 1., ..., 0., 0., 0.])"
            ]
          },
          "metadata": {},
          "execution_count": 8
        }
      ]
    },
    {
      "cell_type": "code",
      "metadata": {
        "id": "RBzY7qPASWy_"
      },
      "source": [
        "y_train = np.asarray(train_labels).astype(\"float32\")\n",
        "y_test = np.asarray(test_labels).astype(\"float32\")"
      ],
      "execution_count": null,
      "outputs": []
    },
    {
      "cell_type": "markdown",
      "metadata": {
        "id": "GxHU8-BiSWy_"
      },
      "source": [
        "### Building your model"
      ]
    },
    {
      "cell_type": "markdown",
      "metadata": {
        "id": "jv_k78mmSWy_"
      },
      "source": [
        "#### Model definition"
      ]
    },
    {
      "cell_type": "code",
      "metadata": {
        "id": "IQzf7F7USWzA"
      },
      "source": [
        "from tensorflow import keras\n",
        "from tensorflow.keras import layers\n",
        "\n",
        "model1 = keras.Sequential([\n",
        "    layers.Dense(16, activation=\"relu\"),\n",
        "    layers.Dense(16, activation=\"relu\"),\n",
        "    layers.Dense(1, activation=\"sigmoid\")\n",
        "])"
      ],
      "execution_count": null,
      "outputs": []
    },
    {
      "cell_type": "markdown",
      "metadata": {
        "id": "DasM7UfASWzA"
      },
      "source": [
        "#### Compiling the model"
      ]
    },
    {
      "cell_type": "code",
      "metadata": {
        "id": "BWSLlZC4SWzA"
      },
      "source": [
        "model1.compile(optimizer=\"rmsprop\",\n",
        "              loss=\"binary_crossentropy\",\n",
        "              metrics=[\"accuracy\"])"
      ],
      "execution_count": null,
      "outputs": []
    },
    {
      "cell_type": "markdown",
      "metadata": {
        "id": "oUth-9BtSWzA"
      },
      "source": [
        "### Validating your approach"
      ]
    },
    {
      "cell_type": "markdown",
      "metadata": {
        "id": "XsEbLv3eSWzA"
      },
      "source": [
        "#### Setting aside a validation set"
      ]
    },
    {
      "cell_type": "code",
      "metadata": {
        "id": "CNxpNUwPSWzA"
      },
      "source": [
        "x_val = x_train[:10000]\n",
        "partial_x_train = x_train[10000:]\n",
        "y_val = y_train[:10000]\n",
        "partial_y_train = y_train[10000:]"
      ],
      "execution_count": null,
      "outputs": []
    },
    {
      "cell_type": "markdown",
      "metadata": {
        "id": "A3ye0OxsSWzA"
      },
      "source": [
        "#### Training your model"
      ]
    },
    {
      "cell_type": "code",
      "metadata": {
        "id": "o3rFuAH8SWzA",
        "colab": {
          "base_uri": "https://localhost:8080/"
        },
        "outputId": "f4aa73a6-fb6a-41ce-d205-5273626d5873"
      },
      "source": [
        "history = model1.fit(partial_x_train,\n",
        "                    partial_y_train,\n",
        "                    epochs=20,\n",
        "                    batch_size=512,\n",
        "                    validation_data=(x_val, y_val))"
      ],
      "execution_count": null,
      "outputs": [
        {
          "output_type": "stream",
          "name": "stdout",
          "text": [
            "Epoch 1/20\n",
            "30/30 [==============================] - 7s 58ms/step - loss: 0.5364 - accuracy: 0.7831 - val_loss: 0.4152 - val_accuracy: 0.8586\n",
            "Epoch 2/20\n",
            "30/30 [==============================] - 1s 26ms/step - loss: 0.3306 - accuracy: 0.8898 - val_loss: 0.3158 - val_accuracy: 0.8837\n",
            "Epoch 3/20\n",
            "30/30 [==============================] - 1s 23ms/step - loss: 0.2439 - accuracy: 0.9181 - val_loss: 0.2853 - val_accuracy: 0.8886\n",
            "Epoch 4/20\n",
            "30/30 [==============================] - 1s 25ms/step - loss: 0.1961 - accuracy: 0.9337 - val_loss: 0.2771 - val_accuracy: 0.8894\n",
            "Epoch 5/20\n",
            "30/30 [==============================] - 1s 24ms/step - loss: 0.1652 - accuracy: 0.9449 - val_loss: 0.2771 - val_accuracy: 0.8891\n",
            "Epoch 6/20\n",
            "30/30 [==============================] - 1s 23ms/step - loss: 0.1406 - accuracy: 0.9542 - val_loss: 0.2830 - val_accuracy: 0.8879\n",
            "Epoch 7/20\n",
            "30/30 [==============================] - 1s 22ms/step - loss: 0.1190 - accuracy: 0.9629 - val_loss: 0.3211 - val_accuracy: 0.8753\n",
            "Epoch 8/20\n",
            "30/30 [==============================] - 1s 25ms/step - loss: 0.1029 - accuracy: 0.9686 - val_loss: 0.3073 - val_accuracy: 0.8830\n",
            "Epoch 9/20\n",
            "30/30 [==============================] - 1s 23ms/step - loss: 0.0865 - accuracy: 0.9746 - val_loss: 0.3779 - val_accuracy: 0.8691\n",
            "Epoch 10/20\n",
            "30/30 [==============================] - 1s 24ms/step - loss: 0.0755 - accuracy: 0.9801 - val_loss: 0.3387 - val_accuracy: 0.8824\n",
            "Epoch 11/20\n",
            "30/30 [==============================] - 1s 40ms/step - loss: 0.0630 - accuracy: 0.9835 - val_loss: 0.3579 - val_accuracy: 0.8803\n",
            "Epoch 12/20\n",
            "30/30 [==============================] - 1s 31ms/step - loss: 0.0519 - accuracy: 0.9883 - val_loss: 0.3784 - val_accuracy: 0.8785\n",
            "Epoch 13/20\n",
            "30/30 [==============================] - 1s 26ms/step - loss: 0.0446 - accuracy: 0.9901 - val_loss: 0.4019 - val_accuracy: 0.8756\n",
            "Epoch 14/20\n",
            "30/30 [==============================] - 1s 23ms/step - loss: 0.0388 - accuracy: 0.9911 - val_loss: 0.4327 - val_accuracy: 0.8747\n",
            "Epoch 15/20\n",
            "30/30 [==============================] - 1s 26ms/step - loss: 0.0314 - accuracy: 0.9937 - val_loss: 0.4502 - val_accuracy: 0.8739\n",
            "Epoch 16/20\n",
            "30/30 [==============================] - 1s 23ms/step - loss: 0.0272 - accuracy: 0.9950 - val_loss: 0.4685 - val_accuracy: 0.8743\n",
            "Epoch 17/20\n",
            "30/30 [==============================] - 1s 22ms/step - loss: 0.0204 - accuracy: 0.9969 - val_loss: 0.5088 - val_accuracy: 0.8665\n",
            "Epoch 18/20\n",
            "30/30 [==============================] - 1s 24ms/step - loss: 0.0199 - accuracy: 0.9967 - val_loss: 0.5153 - val_accuracy: 0.8719\n",
            "Epoch 19/20\n",
            "30/30 [==============================] - 1s 24ms/step - loss: 0.0141 - accuracy: 0.9991 - val_loss: 0.5552 - val_accuracy: 0.8665\n",
            "Epoch 20/20\n",
            "30/30 [==============================] - 1s 22ms/step - loss: 0.0151 - accuracy: 0.9980 - val_loss: 0.5650 - val_accuracy: 0.8723\n"
          ]
        }
      ]
    },
    {
      "cell_type": "code",
      "metadata": {
        "id": "Z3PLDcnqSWzA",
        "colab": {
          "base_uri": "https://localhost:8080/"
        },
        "outputId": "492cb84d-f3fc-4325-85b8-e6962b48caf4"
      },
      "source": [
        "history_dict = history.history\n",
        "history_dict.keys()"
      ],
      "execution_count": null,
      "outputs": [
        {
          "output_type": "execute_result",
          "data": {
            "text/plain": [
              "dict_keys(['loss', 'accuracy', 'val_loss', 'val_accuracy'])"
            ]
          },
          "metadata": {},
          "execution_count": 14
        }
      ]
    },
    {
      "cell_type": "markdown",
      "metadata": {
        "id": "mOAiUESnSWzA"
      },
      "source": [
        "#### Plotting the training and validation loss"
      ]
    },
    {
      "cell_type": "code",
      "metadata": {
        "id": "v8FYYH2ASWzA",
        "colab": {
          "base_uri": "https://localhost:8080/",
          "height": 472
        },
        "outputId": "a658e736-4220-44d8-e4d9-de33b9a46b83"
      },
      "source": [
        "import matplotlib.pyplot as plt\n",
        "history_dict = history.history\n",
        "loss_values = history_dict[\"loss\"]\n",
        "val_loss_values = history_dict[\"val_loss\"]\n",
        "epochs = range(1, len(loss_values) + 1)\n",
        "plt.plot(epochs, loss_values, \"bo\", label=\"Training loss\")\n",
        "plt.plot(epochs, val_loss_values, \"b\", label=\"Validation loss\")\n",
        "plt.title(\"Training and validation loss\")\n",
        "plt.xlabel(\"Epochs\")\n",
        "plt.ylabel(\"Loss\")\n",
        "plt.legend()\n",
        "plt.show()"
      ],
      "execution_count": null,
      "outputs": [
        {
          "output_type": "display_data",
          "data": {
            "text/plain": [
              "<Figure size 640x480 with 1 Axes>"
            ],
            "image/png": "[encoded data removed]"
          },
          "metadata": {}
        }
      ]
    },
    {
      "cell_type": "markdown",
      "metadata": {
        "id": "Y5dKUKfOSWzA"
      },
      "source": [
        "#### Plotting the training and validation accuracy"
      ]
    },
    {
      "cell_type": "code",
      "metadata": {
        "id": "MyWdgytcSWzA",
        "colab": {
          "base_uri": "https://localhost:8080/",
          "height": 472
        },
        "outputId": "6cf2a649-9c09-4f67-fd9e-259b816d0599"
      },
      "source": [
        "plt.clf()\n",
        "acc = history_dict[\"accuracy\"]\n",
        "val_acc = history_dict[\"val_accuracy\"]\n",
        "plt.plot(epochs, acc, \"bo\", label=\"Training acc\")\n",
        "plt.plot(epochs, val_acc, \"b\", label=\"Validation acc\")\n",
        "plt.title(\"Training and validation accuracy\")\n",
        "plt.xlabel(\"Epochs\")\n",
        "plt.ylabel(\"Accuracy\")\n",
        "plt.legend()\n",
        "plt.show()"
      ],
      "execution_count": null,
      "outputs": [
        {
          "output_type": "display_data",
          "data": {
            "text/plain": [
              "<Figure size 640x480 with 1 Axes>"
            ],
            "image/png": "[encoded data removed]"
          },
          "metadata": {}
        }
      ]
    },
    {
      "cell_type": "markdown",
      "source": [
        "#### Testing the model"
      ],
      "metadata": {
        "id": "pI_DRyI0Reir"
      }
    },
    {
      "cell_type": "code",
      "source": [
        "results = model1.evaluate(x_test, y_test)"
      ],
      "metadata": {
        "colab": {
          "base_uri": "https://localhost:8080/"
        },
        "id": "rmWVvWccQyvE",
        "outputId": "6a7f4396-c784-4fb7-a0e6-841d03c61333"
      },
      "execution_count": null,
      "outputs": [
        {
          "output_type": "stream",
          "name": "stdout",
          "text": [
            "782/782 [==============================] - 2s 3ms/step - loss: 0.6013 - accuracy: 0.8598\n"
          ]
        }
      ]
    },
    {
      "cell_type": "code",
      "source": [
        "results"
      ],
      "metadata": {
        "colab": {
          "base_uri": "https://localhost:8080/"
        },
        "id": "r6DlV13UQ6v9",
        "outputId": "93ca7819-206c-442e-ae5a-7c72dfdcca0c"
      },
      "execution_count": null,
      "outputs": [
        {
          "output_type": "execute_result",
          "data": {
            "text/plain": [
              "[0.6012821197509766, 0.8597999811172485]"
            ]
          },
          "metadata": {},
          "execution_count": 18
        }
      ]
    },
    {
      "cell_type": "markdown",
      "source": [
        "## **PART 1** - *Your Turn*"
      ],
      "metadata": {
        "id": "ISnJ_UrZqvWk"
      }
    },
    {
      "cell_type": "markdown",
      "source": [
        "### **Part 1 - Tasks:**\n",
        "\n",
        "**1.1  &emsp;(*required*) - 10 points each**\n",
        "\n",
        " &emsp;**1.1.1** What type of preprocessing was applied to the raw input data? Why was it necessary to do so?\n",
        "\n",
        " &emsp;**1.1.2** Does your model suffer from overfitting? If so, what would you suggest doing about it?\n",
        "\n",
        " &emsp;**1.1.3** Is accuracy a good metric of success in this case? Why (not)?\n",
        "\n",
        "**1.2 &emsp;(*optional*) - 2 bonus points each**\n",
        "\n",
        " &emsp;**1.2.1** Write code to show two examples of reviews (in plain text), one labeled as _positive_, another labeled as _negative_.\n",
        "\n",
        " &emsp;**1.2.2** Write code to display 2 cases (one false positive, one false negative) where the classifier makes mistakes. Make sure to display both the true value as well as the predicted value.\n",
        "\n",
        " &emsp;**1.2.3** Comment on the mistakes and what you believe might have caused each of them.\n",
        "\n",
        " &emsp;**1.2.4** Write code to try different combinations of:\n",
        "\n",
        " - numbers of hidden layers and units per layer\n",
        "\n",
        " - loss functions\n",
        "\n",
        " - activation functions\n",
        "\n",
        " Please refrain from using better architectures (RNN, LSTM, etc.) and \"advanced\" techniques to curb overfitting (e.g., dropout, batch normalization, weight regularization, etc.)"
      ],
      "metadata": {
        "id": "4coVfbOqq4bD"
      }
    },
    {
      "cell_type": "markdown",
      "source": [
        "#### **Part 1.1 - Required Tasks:**   *(responses)*"
      ],
      "metadata": {
        "id": "qDSrOp81wrXr"
      }
    },
    {
      "cell_type": "markdown",
      "source": [
        " **1.1.1**\n",
        "\n",
        "   >What type of preprocessing was applied to the raw input data? Why was\n",
        "it necessary to do so?\n",
        "\n",
        " Within the given code, the crude input data experienced preprocessing within the taking after steps:\n",
        "- The input content information was tokenized, part of the content into person words or tokens.\n",
        "- A settled lexicon estimate of 10,000 words was chosen utilizing the 'num_words' parameter when stacking the IMDb dataset.\n",
        "- Each arrangement of tokens (audit) was changed into a binary vector of length 10,000, where each position within the vector corresponds to a word from the vocabulary. If a word appeared within the arrangement, its comparing position within the vector was set to 1; something else, it was set to 0.\n",
        "This preprocessing was essential to convert the crude content information into a arrange reasonable for preparing a neural organize. The demonstration can effectively prepare and learn designs from the content by speaking to the input information as fixed-length vectors. Tokenization permits the demonstration to treat each word as partitioned, capturing the semantic data inside the surveys.\n"
      ],
      "metadata": {
        "id": "xifQDjKqwloa"
      }
    },
    {
      "cell_type": "markdown",
      "source": [
        " **1.1.2**\n",
        " > Does your model suffer from overfitting? If so, what would you suggest\n",
        "doing about it?\n",
        "\n",
        "The given code does not incorporate express data approximately whether the demonstration endures from overfitting. Deciding whether a show endures overfitting requires analyzing its execution on the preparation and approval information. In case the preparing misfortune proceeds to diminish whereas the approval misfortune begins to extend or remains stagnant, it shows that the demonstration is overfitting.\n",
        "A few methods can be utilized, counting:\n",
        "- Including regularization strategies such as L1 or L2 regularization to penalize huge weights within the show.\n",
        "- Including dropout layers, which arbitrarily deactivate a few neurons amid preparing to anticipate dependence on particular highlights.\n",
        "- Expanding the dataset training measure or utilizing information expansion strategies to supply more assorted cases for the show to memorize.\n",
        "- Rearranging the demonstrated engineering by reducing the number of layers or units in each layer.\n",
        " It is essential to assess the model's execution on isolated approval and test sets to affirm if overfitting is happening and to choose the suitable approach for tending to it.\n"
      ],
      "metadata": {
        "id": "4IwVTuGfwzOC"
      }
    },
    {
      "cell_type": "markdown",
      "source": [
        " **1.1.3**\n",
        " > Is accuracy a good metric of success in this case? Why (not)?\n",
        "\n",
        "Exactness may not be the sole metric of victory in this case. Different from exactness could be a commonly utilized metric, it may not give a comprehensive evaluation of the model's execution, particularly when managing imbalanced datasets or when diverse blunders have mixed results.\n",
        "In sentiment analysis or content classification errands like the IMDb dataset, other measurements such as exactness, review, and F1-score can be more instructive. These metrics provide experiences into the model's capacity to classify positive and negative estimations accurately and can offer assistance get it its execution in several classes.\n",
        " Besides, it is fundamental to consider the particular issue space and the related trade or investigate objectives to decide the foremost suitable assessment measurements. More than exactness is needed to capture the subtleties and necessities of a specific errand.\n",
        " Thus, a combination of measurements or domain-specific measurements may be more reasonable to evaluate the model's victory.\n"
      ],
      "metadata": {
        "id": "MkQcmGOowzc2"
      }
    },
    {
      "cell_type": "markdown",
      "source": [
        "#### **Part 1.2 - Optional Tasks:** *(responses & code)*"
      ],
      "metadata": {
        "id": "Lun13wAwwzrb"
      }
    },
    {
      "cell_type": "markdown",
      "metadata": {
        "id": "96PvZIXicgJu"
      },
      "source": [
        "**1.2.1**\n",
        "\n",
        "> Write code to show two examples of reviews (in plain text), one labeled as _positive_, another labeled as _negative_."
      ]
    },
    {
      "cell_type": "code",
      "source": [
        "# Your positive and negative code here and in additional cells as needed\n",
        "\n",
        "reverse_word_index = dict([(value, key) for (key, value) in word_index.items()])\n",
        "\n",
        "\n",
        "positive_review = \" \".join([reverse_word_index.get(i - 3, \"?\") for i in train_data[train_labels == 1][0]])\n",
        "print(\"Positive Review:\")\n",
        "print(positive_review)\n",
        "\n",
        "\n",
        "negative_review = \" \".join([reverse_word_index.get(i - 3, \"?\") for i in train_data[train_labels == 0][0]])\n",
        "print(\"\\nNegative Review:\")\n",
        "print(negative_review)\n"
      ],
      "metadata": {
        "id": "M2DyBlmUx5Fy",
        "outputId": "205f5fc9-07cb-4241-8048-09e3d2fd50ff",
        "colab": {
          "base_uri": "https://localhost:8080/"
        }
      },
      "execution_count": null,
      "outputs": [
        {
          "output_type": "stream",
          "name": "stdout",
          "text": [
            "Positive Review:\n",
            "? this film was just brilliant casting location scenery story direction everyone's really suited the part they played and you could just imagine being there robert ? is an amazing actor and now the same being director ? father came from the same scottish island as myself so i loved the fact there was a real connection with this film the witty remarks throughout the film were great it was just brilliant so much that i bought the film as soon as it was released for ? and would recommend it to everyone to watch and the fly fishing was amazing really cried at the end it was so sad and you know what they say if you cry at a film it must have been good and this definitely was also ? to the two little boy's that played the ? of norman and paul they were just brilliant children are often left out of the ? list i think because the stars that play them all grown up are such a big profile for the whole film but these children are amazing and should be praised for what they have done don't you think the whole story was so lovely because it was true and was someone's life after all that was shared with us all\n",
            "\n",
            "Negative Review:\n",
            "? big hair big boobs bad music and a giant safety pin these are the words to best describe this terrible movie i love cheesy horror movies and i've seen hundreds but this had got to be on of the worst ever made the plot is paper thin and ridiculous the acting is an abomination the script is completely laughable the best is the end showdown with the cop and how he worked out who the killer is it's just so damn terribly written the clothes are sickening and funny in equal ? the hair is big lots of boobs ? men wear those cut ? shirts that show off their ? sickening that men actually wore them and the music is just ? trash that plays over and over again in almost every scene there is trashy music boobs and ? taking away bodies and the gym still doesn't close for ? all joking aside this is a truly bad film whose only charm is to look back on the disaster that was the 80's and have a good old laugh at how bad everything was back then\n"
          ]
        }
      ]
    },
    {
      "cell_type": "markdown",
      "metadata": {
        "id": "lJetC7rA36VT"
      },
      "source": [
        "**1.2.2**\n",
        "\n",
        "> Write code to display 2 cases (one false positive, one false negative) where the classifier makes mistakes. Make sure to display both the true value as well as the predicted value.\n"
      ]
    },
    {
      "cell_type": "code",
      "source": [
        "# Your false pos/neg code here and in additional cells as needed\n",
        "\n",
        "predictions = model1.predict(x_test)\n",
        "\n",
        "\n",
        "false_positive_indices = np.where((predictions.flatten() > 0.5) & (y_test == 0))[0]\n",
        "false_negative_indices = np.where((predictions.flatten() <= 0.5) & (y_test == 1))[0]\n",
        "\n",
        "\n",
        "print(\"False Positive:\")\n",
        "print(\"True Label:\", y_test[false_positive_indices[0]])\n",
        "print(\"Predicted Label:\", predictions[false_positive_indices[0]])\n",
        "print(\"Review:\", \" \".join([reverse_word_index.get(i - 3, \"?\") for i in test_data[false_positive_indices[0]]]))\n",
        "\n",
        "\n",
        "print(\"\\nFalse Negative:\")\n",
        "print(\"True Label:\", y_test[false_negative_indices[0]])\n",
        "print(\"Predicted Label:\", predictions[false_negative_indices[0]])\n",
        "print(\"Review:\", \" \".join([reverse_word_index.get(i - 3, \"?\") for i in test_data[false_negative_indices[0]]]))\n"
      ],
      "metadata": {
        "id": "9JN2zdAEx_FB",
        "outputId": "14728eae-94f3-407f-aec8-bc24f0b4dbee",
        "colab": {
          "base_uri": "https://localhost:8080/"
        }
      },
      "execution_count": null,
      "outputs": [
        {
          "output_type": "stream",
          "name": "stdout",
          "text": [
            "782/782 [==============================] - 2s 2ms/step\n",
            "False Positive:\n",
            "True Label: 0.0\n",
            "Predicted Label: [0.92915034]\n",
            "Review: ? i generally love this type of movie however this time i found myself wanting to kick the screen since i can't do that i will just complain about it this was absolutely idiotic the things that happen with the dead kids are very cool but the alive people are absolute idiots i am a grown man pretty big and i can defend myself well however i would not do half the stuff the little girl does in this movie also the mother in this movie is reckless with her children to the point of neglect i wish i wasn't so angry about her and her actions because i would have otherwise enjoyed the flick what a number she was take my advise and fast forward through everything you see her do until the end also is anyone else getting sick of watching movies that are filmed so dark anymore one can hardly see what is being filmed as an audience we are ? involved with the actions on the screen so then why the hell can't we have night vision\n",
            "\n",
            "False Negative:\n",
            "True Label: 1.0\n",
            "Predicted Label: [0.09070256]\n",
            "Review: ? many animation buffs consider ? ? the great forgotten genius of one special branch of the art puppet animation which he invented almost single ? and as it happened almost accidentally as a young man ? was more interested in ? than the cinema but his ? attempt to film two ? ? fighting led to an unexpected breakthrough in film making when he realized he could ? movement by ? beetle ? and ? them one frame at a time this discovery led to the production of amazingly elaborate classic short the ? revenge which he made in russia in ? at a time when motion picture animation of all sorts was in its ? br br the political ? of the russian revolution caused ? to move to paris where one of his first productions ? was a dark political satire ? known as ? or the ? who wanted a king a strain of black comedy can be found in almost all of films but here it is very dark indeed aimed more at grown ups who can appreciate the satirical aspects than children who would most likely find the climax ? i'm middle aged and found it pretty ? myself and indeed ? of the film intended for english speaking viewers of the 1920s were given title cards filled with ? and ? in order to help ? the sharp ? of the finale br br our tale is set in a swamp the ? ? where the citizens are unhappy with their government and have called a special session to see what they can do to improve matters they decide to ? ? for a king the crowds are ? animated in this opening sequence it couldn't have been easy to make so many frog puppets look alive simultaneously while ? for his part is depicted as a ? white ? guy in the clouds who looks like he'd rather be taking a ? when ? sends them a tree like god who regards them the ? decide that this is no improvement and demand a different king irritated ? sends them a ? br br delighted with this ? looking new king who towers above them the ? welcome him with a ? of ? dressed ? the mayor steps forward to hand him the key to the ? as ? cameras record the event to everyone's horror the ? promptly eats the mayor and then goes on a merry rampage ? citizens at random a title card ? reads news of the king's ? throughout the kingdom when the now terrified ? once more ? ? for help he loses his temper and ? their community with lightning ? the moral of our story delivered by a hapless frog just before he is eaten is let well enough alone br br considering the time period when this startling little film was made and considering the fact that it was made by a russian ? at the height of that ? country's civil war it would be easy to see this as a ? about those events ? may or may not have had ? turmoil in mind when he made ? but whatever ? his choice of material the film stands as a ? tale of universal ? ? could be the soviet union italy germany or japan in the 1930s or any country of any era that lets its guard down and is overwhelmed by ? it's a fascinating film even a charming one in its macabre way but its message is no joke\n"
          ]
        }
      ]
    },
    {
      "cell_type": "markdown",
      "source": [
        "**1.2.3**\n",
        ">Comment on the mistakes and what you believe might have caused each of them.\n",
        "\n",
        "Commenting on the botches and their probable causes requires analyzing the particular cases and understanding the setting of the dataset. Untrue positive alludes to cases where the show erroneously predicts an optimistic estimation when the genuine estimation is negative. Wrong hostile alludes to cases where the demonstration erroneously predicts an adverse opinion when the valid assumption is optimistic.\n",
        " The botches may be caused by different variables, counting:\n",
        "- Inadequately preparing information: On the off chance that the demonstration has been uncovered to sufficiently different illustrations, it may require to offer assistance to generalize well to concealed cases.\n",
        "- Complex or equivocal audits: A few reviews may contain mockery, incongruity, or nuanced dialect that's troublesome for the show to capture.\n",
        "- Lacking demonstrate engineering: The chosen show engineering may need more capacity or adaptability to visualize the basic designs within the information.\n",
        " - Restrictions of the bag-of-words approach\n"
      ],
      "metadata": {
        "id": "6mHAav52z2z4"
      }
    },
    {
      "cell_type": "markdown",
      "metadata": {
        "id": "dmlYOsbMxY-d"
      },
      "source": [
        "**1.2.4**\n",
        "\n",
        "> Write code to try different combinations of:\n",
        "- numbers of hidden layers and units per layer\n",
        "- loss functions\n",
        "- activation functions\n",
        "\n",
        "> Please refrain from using better architectures (RNN, LSTM, etc.) and \"advanced\" techniques to curb overfitting (e.g., dropout, batch normalization, weight regularization, etc.)"
      ]
    },
    {
      "cell_type": "code",
      "source": [
        "# Your exploratory code here and in additional cells as needed\n",
        "import tensorflow as tf\n",
        "from tensorflow import keras\n",
        "from tensorflow.keras.datasets import imdb\n",
        "from tensorflow.keras.models import Sequential\n",
        "from tensorflow.keras.layers import Dense\n",
        "\n",
        "\n",
        "(train_data, train_labels), (test_data, test_labels) = imdb.load_data(num_words=10000)\n",
        "\n",
        "train_data = keras.preprocessing.sequence.pad_sequences(train_data, maxlen=250)\n",
        "test_data = keras.preprocessing.sequence.pad_sequences(test_data, maxlen=250)\n",
        "\n",
        "hidden_layers = [1, 2, 3]\n",
        "units_per_layer = [16, 32, 64]\n",
        "loss_functions = ['binary_crossentropy', 'mean_squared_error']\n",
        "activation_functions = ['relu', 'sigmoid']\n",
        "\n",
        "\n",
        "for num_layers in hidden_layers:\n",
        "    for num_units in units_per_layer:\n",
        "        for loss_func in loss_functions:\n",
        "            for activation_func in activation_functions:\n",
        "                print(f\"HL Hidden Layers : {num_layers}\")\n",
        "                print(f\"No.of units/ layer: {num_units}\")\n",
        "                print(f\"LF Loss function : {loss_func}\")\n",
        "                print(f\"AF: {activation_func}\")\n",
        "                print(\"--------------------------------------------------\")\n",
        "\n",
        "\n",
        "                model = Sequential()\n",
        "                model.add(Dense(num_units, activation=activation_func, input_shape=(250,)))\n",
        "                for _ in range(num_layers - 1):\n",
        "                    model.add(Dense(num_units, activation=activation_func))\n",
        "                model.add(Dense(1, activation='sigmoid'))\n",
        "\n",
        "\n",
        "                model.compile(optimizer='adam', loss=loss_func, metrics=['accuracy'])\n"
      ],
      "metadata": {
        "id": "0lo6BDaGyFRn",
        "outputId": "0222a299-bb49-44ef-e853-73fbd04f1528",
        "colab": {
          "base_uri": "https://localhost:8080/"
        }
      },
      "execution_count": null,
      "outputs": [
        {
          "output_type": "stream",
          "name": "stdout",
          "text": [
            "HL Hidden Layers : 1\n",
            "No.of units/ layer: 16\n",
            "LF Loss function : binary_crossentropy\n",
            "AF: relu\n",
            "--------------------------------------------------\n",
            "HL Hidden Layers : 1\n",
            "No.of units/ layer: 16\n",
            "LF Loss function : binary_crossentropy\n",
            "AF: sigmoid\n",
            "--------------------------------------------------\n",
            "HL Hidden Layers : 1\n",
            "No.of units/ layer: 16\n",
            "LF Loss function : mean_squared_error\n",
            "AF: relu\n",
            "--------------------------------------------------\n",
            "HL Hidden Layers : 1\n",
            "No.of units/ layer: 16\n",
            "LF Loss function : mean_squared_error\n",
            "AF: sigmoid\n",
            "--------------------------------------------------\n",
            "HL Hidden Layers : 1\n",
            "No.of units/ layer: 32\n",
            "LF Loss function : binary_crossentropy\n",
            "AF: relu\n",
            "--------------------------------------------------\n",
            "HL Hidden Layers : 1\n",
            "No.of units/ layer: 32\n",
            "LF Loss function : binary_crossentropy\n",
            "AF: sigmoid\n",
            "--------------------------------------------------\n",
            "HL Hidden Layers : 1\n",
            "No.of units/ layer: 32\n",
            "LF Loss function : mean_squared_error\n",
            "AF: relu\n",
            "--------------------------------------------------\n",
            "HL Hidden Layers : 1\n",
            "No.of units/ layer: 32\n",
            "LF Loss function : mean_squared_error\n",
            "AF: sigmoid\n",
            "--------------------------------------------------\n",
            "HL Hidden Layers : 1\n",
            "No.of units/ layer: 64\n",
            "LF Loss function : binary_crossentropy\n",
            "AF: relu\n",
            "--------------------------------------------------\n",
            "HL Hidden Layers : 1\n",
            "No.of units/ layer: 64\n",
            "LF Loss function : binary_crossentropy\n",
            "AF: sigmoid\n",
            "--------------------------------------------------\n",
            "HL Hidden Layers : 1\n",
            "No.of units/ layer: 64\n",
            "LF Loss function : mean_squared_error\n",
            "AF: relu\n",
            "--------------------------------------------------\n",
            "HL Hidden Layers : 1\n",
            "No.of units/ layer: 64\n",
            "LF Loss function : mean_squared_error\n",
            "AF: sigmoid\n",
            "--------------------------------------------------\n",
            "HL Hidden Layers : 2\n",
            "No.of units/ layer: 16\n",
            "LF Loss function : binary_crossentropy\n",
            "AF: relu\n",
            "--------------------------------------------------\n",
            "HL Hidden Layers : 2\n",
            "No.of units/ layer: 16\n",
            "LF Loss function : binary_crossentropy\n",
            "AF: sigmoid\n",
            "--------------------------------------------------\n",
            "HL Hidden Layers : 2\n",
            "No.of units/ layer: 16\n",
            "LF Loss function : mean_squared_error\n",
            "AF: relu\n",
            "--------------------------------------------------\n",
            "HL Hidden Layers : 2\n",
            "No.of units/ layer: 16\n",
            "LF Loss function : mean_squared_error\n",
            "AF: sigmoid\n",
            "--------------------------------------------------\n",
            "HL Hidden Layers : 2\n",
            "No.of units/ layer: 32\n",
            "LF Loss function : binary_crossentropy\n",
            "AF: relu\n",
            "--------------------------------------------------\n",
            "HL Hidden Layers : 2\n",
            "No.of units/ layer: 32\n",
            "LF Loss function : binary_crossentropy\n",
            "AF: sigmoid\n",
            "--------------------------------------------------\n",
            "HL Hidden Layers : 2\n",
            "No.of units/ layer: 32\n",
            "LF Loss function : mean_squared_error\n",
            "AF: relu\n",
            "--------------------------------------------------\n",
            "HL Hidden Layers : 2\n",
            "No.of units/ layer: 32\n",
            "LF Loss function : mean_squared_error\n",
            "AF: sigmoid\n",
            "--------------------------------------------------\n",
            "HL Hidden Layers : 2\n",
            "No.of units/ layer: 64\n",
            "LF Loss function : binary_crossentropy\n",
            "AF: relu\n",
            "--------------------------------------------------\n",
            "HL Hidden Layers : 2\n",
            "No.of units/ layer: 64\n",
            "LF Loss function : binary_crossentropy\n",
            "AF: sigmoid\n",
            "--------------------------------------------------\n",
            "HL Hidden Layers : 2\n",
            "No.of units/ layer: 64\n",
            "LF Loss function : mean_squared_error\n",
            "AF: relu\n",
            "--------------------------------------------------\n",
            "HL Hidden Layers : 2\n",
            "No.of units/ layer: 64\n",
            "LF Loss function : mean_squared_error\n",
            "AF: sigmoid\n",
            "--------------------------------------------------\n",
            "HL Hidden Layers : 3\n",
            "No.of units/ layer: 16\n",
            "LF Loss function : binary_crossentropy\n",
            "AF: relu\n",
            "--------------------------------------------------\n",
            "HL Hidden Layers : 3\n",
            "No.of units/ layer: 16\n",
            "LF Loss function : binary_crossentropy\n",
            "AF: sigmoid\n",
            "--------------------------------------------------\n",
            "HL Hidden Layers : 3\n",
            "No.of units/ layer: 16\n",
            "LF Loss function : mean_squared_error\n",
            "AF: relu\n",
            "--------------------------------------------------\n",
            "HL Hidden Layers : 3\n",
            "No.of units/ layer: 16\n",
            "LF Loss function : mean_squared_error\n",
            "AF: sigmoid\n",
            "--------------------------------------------------\n",
            "HL Hidden Layers : 3\n",
            "No.of units/ layer: 32\n",
            "LF Loss function : binary_crossentropy\n",
            "AF: relu\n",
            "--------------------------------------------------\n",
            "HL Hidden Layers : 3\n",
            "No.of units/ layer: 32\n",
            "LF Loss function : binary_crossentropy\n",
            "AF: sigmoid\n",
            "--------------------------------------------------\n",
            "HL Hidden Layers : 3\n",
            "No.of units/ layer: 32\n",
            "LF Loss function : mean_squared_error\n",
            "AF: relu\n",
            "--------------------------------------------------\n",
            "HL Hidden Layers : 3\n",
            "No.of units/ layer: 32\n",
            "LF Loss function : mean_squared_error\n",
            "AF: sigmoid\n",
            "--------------------------------------------------\n",
            "HL Hidden Layers : 3\n",
            "No.of units/ layer: 64\n",
            "LF Loss function : binary_crossentropy\n",
            "AF: relu\n",
            "--------------------------------------------------\n",
            "HL Hidden Layers : 3\n",
            "No.of units/ layer: 64\n",
            "LF Loss function : binary_crossentropy\n",
            "AF: sigmoid\n",
            "--------------------------------------------------\n",
            "HL Hidden Layers : 3\n",
            "No.of units/ layer: 64\n",
            "LF Loss function : mean_squared_error\n",
            "AF: relu\n",
            "--------------------------------------------------\n",
            "HL Hidden Layers : 3\n",
            "No.of units/ layer: 64\n",
            "LF Loss function : mean_squared_error\n",
            "AF: sigmoid\n",
            "--------------------------------------------------\n"
          ]
        }
      ]
    },
    {
      "cell_type": "markdown",
      "metadata": {
        "id": "C15mmBXeW3ZG"
      },
      "source": [
        "## **PART 2 - Multiclass classification of newswires using the Reuters dataset**\n",
        "\n",
        "Once again, we will start with a simple solution using a fully-connected neural network architecture."
      ]
    },
    {
      "cell_type": "markdown",
      "metadata": {
        "id": "mlFE0npdxh6j"
      },
      "source": [
        "### The Reuters dataset"
      ]
    },
    {
      "cell_type": "markdown",
      "metadata": {
        "id": "2rlaaGT5xh6j"
      },
      "source": [
        "#### Loading the Reuters dataset"
      ]
    },
    {
      "cell_type": "code",
      "metadata": {
        "id": "mF_v9mnCxh6k",
        "colab": {
          "base_uri": "https://localhost:8080/"
        },
        "outputId": "f8c7cd1e-106a-4656-bf0a-e0a2c9629d32"
      },
      "source": [
        "from tensorflow.keras.datasets import reuters\n",
        "(train_data, train_labels), (test_data, test_labels) = reuters.load_data(\n",
        "    num_words=10000)"
      ],
      "execution_count": null,
      "outputs": [
        {
          "output_type": "stream",
          "name": "stdout",
          "text": [
            "Downloading data from https://storage.googleapis.com/tensorflow/tf-keras-datasets/reuters.npz\n",
            "2110848/2110848 [==============================] - 1s 1us/step\n"
          ]
        }
      ]
    },
    {
      "cell_type": "code",
      "metadata": {
        "id": "a9HDPrTzxh6k",
        "colab": {
          "base_uri": "https://localhost:8080/"
        },
        "outputId": "084f9c27-ddd3-4678-ba5a-dee8a609c24f"
      },
      "source": [
        "len(train_data)"
      ],
      "execution_count": null,
      "outputs": [
        {
          "output_type": "execute_result",
          "data": {
            "text/plain": [
              "8982"
            ]
          },
          "metadata": {},
          "execution_count": 23
        }
      ]
    },
    {
      "cell_type": "code",
      "metadata": {
        "id": "chhwyrjsxh6k",
        "colab": {
          "base_uri": "https://localhost:8080/"
        },
        "outputId": "29d49ca3-9da0-416a-f87b-00017ebd515d"
      },
      "source": [
        "len(test_data)"
      ],
      "execution_count": null,
      "outputs": [
        {
          "output_type": "execute_result",
          "data": {
            "text/plain": [
              "2246"
            ]
          },
          "metadata": {},
          "execution_count": 24
        }
      ]
    },
    {
      "cell_type": "code",
      "metadata": {
        "id": "6MLEiOe6xh6k",
        "colab": {
          "base_uri": "https://localhost:8080/"
        },
        "outputId": "ccdf9c81-1c80-4c27-ba79-936abff40dca"
      },
      "source": [
        "train_data[10]"
      ],
      "execution_count": null,
      "outputs": [
        {
          "output_type": "execute_result",
          "data": {
            "text/plain": [
              "[1,\n",
              " 245,\n",
              " 273,\n",
              " 207,\n",
              " 156,\n",
              " 53,\n",
              " 74,\n",
              " 160,\n",
              " 26,\n",
              " 14,\n",
              " 46,\n",
              " 296,\n",
              " 26,\n",
              " 39,\n",
              " 74,\n",
              " 2979,\n",
              " 3554,\n",
              " 14,\n",
              " 46,\n",
              " 4689,\n",
              " 4329,\n",
              " 86,\n",
              " 61,\n",
              " 3499,\n",
              " 4795,\n",
              " 14,\n",
              " 61,\n",
              " 451,\n",
              " 4329,\n",
              " 17,\n",
              " 12]"
            ]
          },
          "metadata": {},
          "execution_count": 25
        }
      ]
    },
    {
      "cell_type": "markdown",
      "metadata": {
        "id": "ndgmqtEpxh6k"
      },
      "source": [
        "#### Decoding newswires back to text"
      ]
    },
    {
      "cell_type": "code",
      "metadata": {
        "id": "ldaiUmBGxh6k",
        "colab": {
          "base_uri": "https://localhost:8080/"
        },
        "outputId": "d538d38e-2a6b-4c66-a993-d9f64abdb35b"
      },
      "source": [
        "word_index = reuters.get_word_index()\n",
        "reverse_word_index = dict([(value, key) for (key, value) in word_index.items()])\n",
        "decoded_newswire = \" \".join([reverse_word_index.get(i - 3, \"?\") for i in\n",
        "    train_data[0]])"
      ],
      "execution_count": null,
      "outputs": [
        {
          "output_type": "stream",
          "name": "stdout",
          "text": [
            "Downloading data from https://storage.googleapis.com/tensorflow/tf-keras-datasets/reuters_word_index.json\n",
            "550378/550378 [==============================] - 1s 1us/step\n"
          ]
        }
      ]
    },
    {
      "cell_type": "code",
      "metadata": {
        "id": "2-khNfkkxh6k",
        "colab": {
          "base_uri": "https://localhost:8080/"
        },
        "outputId": "15ae59b8-f096-48e3-9bbf-14c18d2e6900"
      },
      "source": [
        "train_labels[10]"
      ],
      "execution_count": null,
      "outputs": [
        {
          "output_type": "execute_result",
          "data": {
            "text/plain": [
              "3"
            ]
          },
          "metadata": {},
          "execution_count": 27
        }
      ]
    },
    {
      "cell_type": "markdown",
      "metadata": {
        "id": "4WwJMB6Gxh6k"
      },
      "source": [
        "### Preparing the data"
      ]
    },
    {
      "cell_type": "markdown",
      "metadata": {
        "id": "yMs-iTejxh6k"
      },
      "source": [
        "#### Encoding the input data"
      ]
    },
    {
      "cell_type": "code",
      "metadata": {
        "id": "zds63peXxh6k"
      },
      "source": [
        "x_train = vectorize_sequences(train_data)\n",
        "x_test = vectorize_sequences(test_data)"
      ],
      "execution_count": null,
      "outputs": []
    },
    {
      "cell_type": "markdown",
      "metadata": {
        "id": "6bncEBgYxh6k"
      },
      "source": [
        "#### Encoding the labels"
      ]
    },
    {
      "cell_type": "code",
      "metadata": {
        "id": "srqpJ7ggxh6k"
      },
      "source": [
        "def to_one_hot(labels, dimension=46):\n",
        "    results = np.zeros((len(labels), dimension))\n",
        "    for i, label in enumerate(labels):\n",
        "        results[i, label] = 1.\n",
        "    return results\n",
        "y_train = to_one_hot(train_labels)\n",
        "y_test = to_one_hot(test_labels)"
      ],
      "execution_count": null,
      "outputs": []
    },
    {
      "cell_type": "code",
      "metadata": {
        "id": "oXv_Du2vxh6k"
      },
      "source": [
        "from tensorflow.keras.utils import to_categorical\n",
        "y_train = to_categorical(train_labels)\n",
        "y_test = to_categorical(test_labels)"
      ],
      "execution_count": null,
      "outputs": []
    },
    {
      "cell_type": "markdown",
      "metadata": {
        "id": "5R4pX8KLxh6k"
      },
      "source": [
        "### Building your model"
      ]
    },
    {
      "cell_type": "markdown",
      "metadata": {
        "id": "uGU5Ex_gxh6k"
      },
      "source": [
        "#### Model definition"
      ]
    },
    {
      "cell_type": "code",
      "metadata": {
        "id": "lSeVv-voxh6k"
      },
      "source": [
        "model2 = keras.Sequential([\n",
        "    layers.Dense(64, activation=\"relu\"),\n",
        "    layers.Dense(64, activation=\"relu\"),\n",
        "    layers.Dense(46, activation=\"softmax\")\n",
        "])"
      ],
      "execution_count": null,
      "outputs": []
    },
    {
      "cell_type": "markdown",
      "metadata": {
        "id": "Hg1Y1SpMxh6k"
      },
      "source": [
        "#### Compiling the model"
      ]
    },
    {
      "cell_type": "code",
      "metadata": {
        "id": "EInD8W2axh6k"
      },
      "source": [
        "model2.compile(optimizer=\"rmsprop\",\n",
        "              loss=\"categorical_crossentropy\",\n",
        "              metrics=[\"accuracy\"])"
      ],
      "execution_count": null,
      "outputs": []
    },
    {
      "cell_type": "markdown",
      "metadata": {
        "id": "NaBg251Axh6k"
      },
      "source": [
        "### Validating your approach"
      ]
    },
    {
      "cell_type": "markdown",
      "metadata": {
        "id": "s74Gi5vvxh6k"
      },
      "source": [
        "#### Setting aside a validation set"
      ]
    },
    {
      "cell_type": "code",
      "metadata": {
        "id": "OjMkDhn-xh6k"
      },
      "source": [
        "x_val = x_train[:1000]\n",
        "partial_x_train = x_train[1000:]\n",
        "y_val = y_train[:1000]\n",
        "partial_y_train = y_train[1000:]"
      ],
      "execution_count": null,
      "outputs": []
    },
    {
      "cell_type": "markdown",
      "metadata": {
        "id": "0eOTJNH_xh6k"
      },
      "source": [
        "#### Training the model"
      ]
    },
    {
      "cell_type": "code",
      "metadata": {
        "id": "-B2WgrGZxh6l",
        "colab": {
          "base_uri": "https://localhost:8080/"
        },
        "outputId": "42423aac-e946-40f0-e342-c8ac9f3a9591"
      },
      "source": [
        "history = model2.fit(partial_x_train,\n",
        "                    partial_y_train,\n",
        "                    epochs=20,\n",
        "                    batch_size=512,\n",
        "                    validation_data=(x_val, y_val))"
      ],
      "execution_count": null,
      "outputs": [
        {
          "output_type": "stream",
          "name": "stdout",
          "text": [
            "Epoch 1/20\n",
            "16/16 [==============================] - 2s 33ms/step - loss: 2.9077 - accuracy: 0.5101 - val_loss: 2.0083 - val_accuracy: 0.6270\n",
            "Epoch 2/20\n",
            "16/16 [==============================] - 0s 17ms/step - loss: 1.6216 - accuracy: 0.6832 - val_loss: 1.4052 - val_accuracy: 0.7060\n",
            "Epoch 3/20\n",
            "16/16 [==============================] - 0s 18ms/step - loss: 1.1910 - accuracy: 0.7451 - val_loss: 1.2041 - val_accuracy: 0.7410\n",
            "Epoch 4/20\n",
            "16/16 [==============================] - 0s 16ms/step - loss: 0.9665 - accuracy: 0.7942 - val_loss: 1.0747 - val_accuracy: 0.7670\n",
            "Epoch 5/20\n",
            "16/16 [==============================] - 0s 20ms/step - loss: 0.7944 - accuracy: 0.8320 - val_loss: 1.0089 - val_accuracy: 0.7810\n",
            "Epoch 6/20\n",
            "16/16 [==============================] - 0s 17ms/step - loss: 0.6623 - accuracy: 0.8608 - val_loss: 0.9377 - val_accuracy: 0.8040\n",
            "Epoch 7/20\n",
            "16/16 [==============================] - 0s 17ms/step - loss: 0.5487 - accuracy: 0.8869 - val_loss: 0.9042 - val_accuracy: 0.8040\n",
            "Epoch 8/20\n",
            "16/16 [==============================] - 0s 17ms/step - loss: 0.4567 - accuracy: 0.9052 - val_loss: 0.8774 - val_accuracy: 0.8150\n",
            "Epoch 9/20\n",
            "16/16 [==============================] - 0s 19ms/step - loss: 0.3861 - accuracy: 0.9219 - val_loss: 0.8709 - val_accuracy: 0.8040\n",
            "Epoch 10/20\n",
            "16/16 [==============================] - 0s 17ms/step - loss: 0.3278 - accuracy: 0.9305 - val_loss: 0.8534 - val_accuracy: 0.8170\n",
            "Epoch 11/20\n",
            "16/16 [==============================] - 0s 17ms/step - loss: 0.2856 - accuracy: 0.9372 - val_loss: 0.8720 - val_accuracy: 0.8150\n",
            "Epoch 12/20\n",
            "16/16 [==============================] - 0s 17ms/step - loss: 0.2508 - accuracy: 0.9449 - val_loss: 0.8891 - val_accuracy: 0.8010\n",
            "Epoch 13/20\n",
            "16/16 [==============================] - 0s 18ms/step - loss: 0.2158 - accuracy: 0.9496 - val_loss: 0.9320 - val_accuracy: 0.8130\n",
            "Epoch 14/20\n",
            "16/16 [==============================] - 0s 18ms/step - loss: 0.2013 - accuracy: 0.9496 - val_loss: 0.9189 - val_accuracy: 0.8020\n",
            "Epoch 15/20\n",
            "16/16 [==============================] - 0s 17ms/step - loss: 0.1824 - accuracy: 0.9515 - val_loss: 0.8920 - val_accuracy: 0.8260\n",
            "Epoch 16/20\n",
            "16/16 [==============================] - 0s 17ms/step - loss: 0.1704 - accuracy: 0.9535 - val_loss: 0.9301 - val_accuracy: 0.8180\n",
            "Epoch 17/20\n",
            "16/16 [==============================] - 0s 18ms/step - loss: 0.1592 - accuracy: 0.9535 - val_loss: 0.9111 - val_accuracy: 0.8120\n",
            "Epoch 18/20\n",
            "16/16 [==============================] - 0s 17ms/step - loss: 0.1454 - accuracy: 0.9554 - val_loss: 0.9197 - val_accuracy: 0.8080\n",
            "Epoch 19/20\n",
            "16/16 [==============================] - 0s 19ms/step - loss: 0.1455 - accuracy: 0.9569 - val_loss: 0.9420 - val_accuracy: 0.8050\n",
            "Epoch 20/20\n",
            "16/16 [==============================] - 0s 18ms/step - loss: 0.1316 - accuracy: 0.9574 - val_loss: 1.0276 - val_accuracy: 0.7960\n"
          ]
        }
      ]
    },
    {
      "cell_type": "markdown",
      "metadata": {
        "id": "Pic3C9saxh6l"
      },
      "source": [
        "#### Plotting the training and validation loss"
      ]
    },
    {
      "cell_type": "code",
      "metadata": {
        "id": "6YiutR18xh6l",
        "colab": {
          "base_uri": "https://localhost:8080/",
          "height": 472
        },
        "outputId": "15b254e7-fd97-4255-edd1-97d5267ed6bc"
      },
      "source": [
        "loss = history.history[\"loss\"]\n",
        "val_loss = history.history[\"val_loss\"]\n",
        "epochs = range(1, len(loss) + 1)\n",
        "plt.plot(epochs, loss, \"bo\", label=\"Training loss\")\n",
        "plt.plot(epochs, val_loss, \"b\", label=\"Validation loss\")\n",
        "plt.title(\"Training and validation loss\")\n",
        "plt.xlabel(\"Epochs\")\n",
        "plt.ylabel(\"Loss\")\n",
        "plt.legend()\n",
        "plt.show()"
      ],
      "execution_count": null,
      "outputs": [
        {
          "output_type": "display_data",
          "data": {
            "text/plain": [
              "<Figure size 640x480 with 1 Axes>"
            ],
            "image/png": "[encoded data removed]"
          },
          "metadata": {}
        }
      ]
    },
    {
      "cell_type": "markdown",
      "metadata": {
        "id": "9JmGj8BQxh6l"
      },
      "source": [
        "#### Plotting the training and validation accuracy"
      ]
    },
    {
      "cell_type": "code",
      "metadata": {
        "id": "qRJH4bWjxh6l",
        "colab": {
          "base_uri": "https://localhost:8080/",
          "height": 472
        },
        "outputId": "b8a5bf9f-dcbe-4c0c-d232-87daba2e2883"
      },
      "source": [
        "plt.clf()\n",
        "acc = history.history[\"accuracy\"]\n",
        "val_acc = history.history[\"val_accuracy\"]\n",
        "plt.plot(epochs, acc, \"bo\", label=\"Training accuracy\")\n",
        "plt.plot(epochs, val_acc, \"b\", label=\"Validation accuracy\")\n",
        "plt.title(\"Training and validation accuracy\")\n",
        "plt.xlabel(\"Epochs\")\n",
        "plt.ylabel(\"Accuracy\")\n",
        "plt.legend()\n",
        "plt.show()"
      ],
      "execution_count": null,
      "outputs": [
        {
          "output_type": "display_data",
          "data": {
            "text/plain": [
              "<Figure size 640x480 with 1 Axes>"
            ],
            "image/png": "[encoded data removed]"
          },
          "metadata": {}
        }
      ]
    },
    {
      "cell_type": "markdown",
      "source": [
        "#### Testing the model\n"
      ],
      "metadata": {
        "id": "5WPSZ25cRT7P"
      }
    },
    {
      "cell_type": "code",
      "source": [
        "results = model2.evaluate(x_test, y_test)"
      ],
      "metadata": {
        "colab": {
          "base_uri": "https://localhost:8080/"
        },
        "id": "Kx9tb58YQOuE",
        "outputId": "1a9583a2-8a95-404e-d518-b3c165d22f4f"
      },
      "execution_count": null,
      "outputs": [
        {
          "output_type": "stream",
          "name": "stdout",
          "text": [
            "71/71 [==============================] - 0s 3ms/step - loss: 1.1532 - accuracy: 0.7796\n"
          ]
        }
      ]
    },
    {
      "cell_type": "code",
      "metadata": {
        "id": "kAIVUZb6xh6l",
        "colab": {
          "base_uri": "https://localhost:8080/"
        },
        "outputId": "fa1f38d6-1369-42ed-e668-5c15efded3d9"
      },
      "source": [
        "results"
      ],
      "execution_count": null,
      "outputs": [
        {
          "output_type": "execute_result",
          "data": {
            "text/plain": [
              "[1.1532232761383057, 0.7796081900596619]"
            ]
          },
          "metadata": {},
          "execution_count": 38
        }
      ]
    },
    {
      "cell_type": "markdown",
      "source": [
        "## **PART 2** - *Your Turn*  "
      ],
      "metadata": {
        "id": "43tCcsW8uWzZ"
      }
    },
    {
      "cell_type": "markdown",
      "source": [
        "### **Part 2- Tasks:**   \n",
        "\n",
        "**2.1  &emsp;(*Required*) - 10 points each**\n",
        "\n",
        " &emsp;**2.1.1** What type of preprocessing was applied to the raw input data? Why was it necessary to do so?\n",
        "\n",
        " &emsp;**2.1.2** How many categories are there in this case?\n",
        "\n",
        " &emsp;**2.1.3** Does your model suffer from overfitting? If so, what would you suggest doing about it?\n",
        "\n",
        " &emsp;**2.1.4** Is accuracy a good metric of success in this case? Why (not)?\n",
        "\n",
        "**2.2  &emsp;(*Optional*) - 2 bonus points**\n",
        "\n",
        " &emsp;**2.2.1** Write code to try different combinations of:\n",
        "- numbers of hidden layers and units per layer\n",
        "\n",
        "&emsp;Please refrain from using better architectures and \"advanced\" techniques to curb overfitting (e.g., dropout, batch normalization, weight regularization, etc.)"
      ],
      "metadata": {
        "id": "h1WT7A8irty3"
      }
    },
    {
      "cell_type": "markdown",
      "source": [
        "#### **Part 2.1 - Required Tasks:**   *(responses)*"
      ],
      "metadata": {
        "id": "a5Ly9itt3n54"
      }
    },
    {
      "cell_type": "markdown",
      "source": [],
      "metadata": {
        "id": "sRXEMyzQ6GBR"
      }
    },
    {
      "cell_type": "markdown",
      "source": [
        "**2.1.1**\n",
        "\n",
        ">What type of preprocessing was applied to the raw input data?\n",
        "\n",
        "The preprocessing connected to the crude input information includes vectorizing the arrangements of words. This is often done by changing over the sequences into two frameworks, where each word within the grouping is spoken to by one within the comparing position of the network. This step is essential since neural systems require numerical input information, and vectorization permits us to speak to content information in an arrangement that the show can prepare.\n",
        ""
      ],
      "metadata": {
        "id": "ngUhSR-S4INU"
      }
    },
    {
      "cell_type": "markdown",
      "source": [
        "**2.1.2**\n",
        "\n",
        ">How many categories are there in this case?\n",
        "\n",
        " In this case, there are 46 categories or classes. Each news wire is classified into one of these categories"
      ],
      "metadata": {
        "id": "hmTssF4i4NfV"
      }
    },
    {
      "cell_type": "markdown",
      "source": [
        "**2.1.3**\n",
        "\n",
        ">Does your model suffer from overfitting? If so, what would you suggest doing about it?\n",
        "\n",
        "It needs to be made clear from the given code and data whether the show endures overfitting. To decide if the demonstration is overfitting, we would compare the execution on the preparation and approval sets. If the demonstration performs significantly better on the preparing set than the approval set, it might be a sign of overfitting. If overfitting is watched, a few procedures can be connected to relieve it, such as utilizing regularization methods (e.g., dropout, L1/L2 regularization), decreasing demonstrate complexity, or expanding the estimate of the preparing dataset."
      ],
      "metadata": {
        "id": "ZEj2zTb94OAp"
      }
    },
    {
      "cell_type": "markdown",
      "source": [
        "**2.1.4**\n",
        "\n",
        ">Is accuracy a good metric of success in this case? Why (not)?\n",
        "\n",
        "Precision could be a commonly utilized metric to assess the execution of classification models. In this case, precision may not be the foremost suitable metric to decide the show's victory. Since the dataset is imbalanced, a few categories may have more tests than others. In such cases, exactness can be deceiving because it does not consider lopsidedness and may grant tall exactness if the show performs ineffectively on minority classes. It is vital to consider other assessment measurements such as exactness, review, and F1-score, which give a more comprehensive understanding of the model's execution over diverse categories"
      ],
      "metadata": {
        "id": "J9s48Svt3ebF"
      }
    },
    {
      "cell_type": "markdown",
      "source": [
        "#### **Part 2.2 - Optional Tasks:** *(code)*"
      ],
      "metadata": {
        "id": "gXnO_qR63xpB"
      }
    },
    {
      "cell_type": "markdown",
      "metadata": {
        "id": "84mqw1BAy2wa"
      },
      "source": [
        " **2.2.1**\n",
        "\n",
        "Write code to try different combinations of:\n",
        "- numbers of hidden layers\n",
        "- units per layer\n",
        "\n",
        "> Please refrain from using better architectures and \"advanced\" techniques to curb overfitting (e.g., dropout, batch normalization, weight regularization, etc.)"
      ]
    },
    {
      "cell_type": "code",
      "source": [
        "# Your hidden layers and units per layer code here and in additional cells as needed\n",
        "from tensorflow import keras\n",
        "from tensorflow.keras import layers\n",
        "\n",
        "\n",
        "layer_combinations = [\n",
        "    [64],\n",
        "    [128],\n",
        "    [64, 64],\n",
        "    [128, 128],\n",
        "    [64, 128],\n",
        "    [128, 64]\n",
        "]\n",
        "\n",
        "\n",
        "for layers_units in layer_combinations:\n",
        "    model = keras.Sequential()\n",
        "    for units in layers_units:\n",
        "        model.add(layers.Dense(units, activation='relu'))\n",
        "    model.add(layers.Dense(46, activation='softmax'))\n",
        "\n",
        "    model.compile(optimizer='rmsprop',\n",
        "                  loss='categorical_crossentropy',\n",
        "                  metrics=['accuracy'])\n",
        "\n",
        "    model.fit(partial_x_train, partial_y_train,\n",
        "              epochs=20,\n",
        "              batch_size=512,\n",
        "              validation_data=(x_val, y_val))\n"
      ],
      "metadata": {
        "id": "2kOuWom236_W",
        "outputId": "70191a27-41e3-4e98-b0b8-d3c29ac4ea9a",
        "colab": {
          "base_uri": "https://localhost:8080/"
        }
      },
      "execution_count": null,
      "outputs": [
        {
          "output_type": "stream",
          "name": "stdout",
          "text": [
            "Epoch 1/20\n",
            "16/16 [==============================] - 1s 34ms/step - loss: 2.6798 - accuracy: 0.5261 - val_loss: 1.9255 - val_accuracy: 0.6400\n",
            "Epoch 2/20\n",
            "16/16 [==============================] - 0s 19ms/step - loss: 1.6044 - accuracy: 0.6944 - val_loss: 1.4283 - val_accuracy: 0.7120\n",
            "Epoch 3/20\n",
            "16/16 [==============================] - 0s 17ms/step - loss: 1.1996 - accuracy: 0.7642 - val_loss: 1.1937 - val_accuracy: 0.7570\n",
            "Epoch 4/20\n",
            "16/16 [==============================] - 0s 19ms/step - loss: 0.9643 - accuracy: 0.8029 - val_loss: 1.0672 - val_accuracy: 0.7840\n",
            "Epoch 5/20\n",
            "16/16 [==============================] - 0s 17ms/step - loss: 0.8025 - accuracy: 0.8349 - val_loss: 0.9826 - val_accuracy: 0.8020\n",
            "Epoch 6/20\n",
            "16/16 [==============================] - 0s 17ms/step - loss: 0.6802 - accuracy: 0.8638 - val_loss: 0.9205 - val_accuracy: 0.8120\n",
            "Epoch 7/20\n",
            "16/16 [==============================] - 0s 18ms/step - loss: 0.5823 - accuracy: 0.8830 - val_loss: 0.8839 - val_accuracy: 0.8190\n",
            "Epoch 8/20\n",
            "16/16 [==============================] - 0s 19ms/step - loss: 0.5017 - accuracy: 0.9004 - val_loss: 0.8530 - val_accuracy: 0.8200\n",
            "Epoch 9/20\n",
            "16/16 [==============================] - 0s 19ms/step - loss: 0.4350 - accuracy: 0.9134 - val_loss: 0.8395 - val_accuracy: 0.8270\n",
            "Epoch 10/20\n",
            "16/16 [==============================] - 0s 19ms/step - loss: 0.3820 - accuracy: 0.9228 - val_loss: 0.8106 - val_accuracy: 0.8300\n",
            "Epoch 11/20\n",
            "16/16 [==============================] - 0s 17ms/step - loss: 0.3367 - accuracy: 0.9318 - val_loss: 0.8119 - val_accuracy: 0.8220\n",
            "Epoch 12/20\n",
            "16/16 [==============================] - 0s 19ms/step - loss: 0.3002 - accuracy: 0.9360 - val_loss: 0.7933 - val_accuracy: 0.8320\n",
            "Epoch 13/20\n",
            "16/16 [==============================] - 0s 18ms/step - loss: 0.2680 - accuracy: 0.9414 - val_loss: 0.7880 - val_accuracy: 0.8300\n",
            "Epoch 14/20\n",
            "16/16 [==============================] - 0s 17ms/step - loss: 0.2421 - accuracy: 0.9445 - val_loss: 0.7899 - val_accuracy: 0.8300\n",
            "Epoch 15/20\n",
            "16/16 [==============================] - 0s 20ms/step - loss: 0.2205 - accuracy: 0.9481 - val_loss: 0.7916 - val_accuracy: 0.8320\n",
            "Epoch 16/20\n",
            "16/16 [==============================] - 0s 17ms/step - loss: 0.2017 - accuracy: 0.9505 - val_loss: 0.7992 - val_accuracy: 0.8320\n",
            "Epoch 17/20\n",
            "16/16 [==============================] - 0s 17ms/step - loss: 0.1857 - accuracy: 0.9533 - val_loss: 0.7956 - val_accuracy: 0.8280\n",
            "Epoch 18/20\n",
            "16/16 [==============================] - 0s 17ms/step - loss: 0.1742 - accuracy: 0.9533 - val_loss: 0.8172 - val_accuracy: 0.8260\n",
            "Epoch 19/20\n",
            "16/16 [==============================] - 0s 18ms/step - loss: 0.1609 - accuracy: 0.9558 - val_loss: 0.8122 - val_accuracy: 0.8320\n",
            "Epoch 20/20\n",
            "16/16 [==============================] - 0s 19ms/step - loss: 0.1524 - accuracy: 0.9567 - val_loss: 0.8077 - val_accuracy: 0.8240\n",
            "Epoch 1/20\n",
            "16/16 [==============================] - 2s 45ms/step - loss: 2.3559 - accuracy: 0.5618 - val_loss: 1.5761 - val_accuracy: 0.6660\n",
            "Epoch 2/20\n",
            "16/16 [==============================] - 0s 25ms/step - loss: 1.2907 - accuracy: 0.7348 - val_loss: 1.1951 - val_accuracy: 0.7460\n",
            "Epoch 3/20\n",
            "16/16 [==============================] - 0s 25ms/step - loss: 0.9557 - accuracy: 0.8007 - val_loss: 1.0309 - val_accuracy: 0.7810\n",
            "Epoch 4/20\n",
            "16/16 [==============================] - 0s 28ms/step - loss: 0.7523 - accuracy: 0.8488 - val_loss: 0.9369 - val_accuracy: 0.7950\n",
            "Epoch 5/20\n",
            "16/16 [==============================] - 0s 19ms/step - loss: 0.6050 - accuracy: 0.8799 - val_loss: 0.8736 - val_accuracy: 0.8190\n",
            "Epoch 6/20\n",
            "16/16 [==============================] - 0s 23ms/step - loss: 0.4957 - accuracy: 0.9025 - val_loss: 0.8254 - val_accuracy: 0.8300\n",
            "Epoch 7/20\n",
            "16/16 [==============================] - 0s 24ms/step - loss: 0.4135 - accuracy: 0.9179 - val_loss: 0.8058 - val_accuracy: 0.8200\n",
            "Epoch 8/20\n",
            "16/16 [==============================] - 0s 22ms/step - loss: 0.3497 - accuracy: 0.9278 - val_loss: 0.7935 - val_accuracy: 0.8260\n",
            "Epoch 9/20\n",
            "16/16 [==============================] - 0s 23ms/step - loss: 0.3007 - accuracy: 0.9351 - val_loss: 0.7869 - val_accuracy: 0.8310\n",
            "Epoch 10/20\n",
            "16/16 [==============================] - 0s 17ms/step - loss: 0.2597 - accuracy: 0.9421 - val_loss: 0.7942 - val_accuracy: 0.8190\n",
            "Epoch 11/20\n",
            "16/16 [==============================] - 0s 20ms/step - loss: 0.2331 - accuracy: 0.9450 - val_loss: 0.7813 - val_accuracy: 0.8270\n",
            "Epoch 12/20\n",
            "16/16 [==============================] - 0s 17ms/step - loss: 0.2066 - accuracy: 0.9494 - val_loss: 0.7896 - val_accuracy: 0.8230\n",
            "Epoch 13/20\n",
            "16/16 [==============================] - 0s 19ms/step - loss: 0.1887 - accuracy: 0.9519 - val_loss: 0.8174 - val_accuracy: 0.8200\n",
            "Epoch 14/20\n",
            "16/16 [==============================] - 0s 19ms/step - loss: 0.1724 - accuracy: 0.9531 - val_loss: 0.7957 - val_accuracy: 0.8310\n",
            "Epoch 15/20\n",
            "16/16 [==============================] - 0s 16ms/step - loss: 0.1598 - accuracy: 0.9546 - val_loss: 0.7995 - val_accuracy: 0.8260\n",
            "Epoch 16/20\n",
            "16/16 [==============================] - 0s 16ms/step - loss: 0.1520 - accuracy: 0.9551 - val_loss: 0.8199 - val_accuracy: 0.8250\n",
            "Epoch 17/20\n",
            "16/16 [==============================] - 0s 17ms/step - loss: 0.1422 - accuracy: 0.9554 - val_loss: 0.8179 - val_accuracy: 0.8280\n",
            "Epoch 18/20\n",
            "16/16 [==============================] - 0s 17ms/step - loss: 0.1314 - accuracy: 0.9562 - val_loss: 0.8346 - val_accuracy: 0.8200\n",
            "Epoch 19/20\n",
            "16/16 [==============================] - 0s 19ms/step - loss: 0.1293 - accuracy: 0.9557 - val_loss: 0.8249 - val_accuracy: 0.8190\n",
            "Epoch 20/20\n",
            "16/16 [==============================] - 0s 19ms/step - loss: 0.1213 - accuracy: 0.9573 - val_loss: 0.8613 - val_accuracy: 0.8210\n",
            "Epoch 1/20\n",
            "16/16 [==============================] - 1s 34ms/step - loss: 2.6344 - accuracy: 0.5169 - val_loss: 1.7827 - val_accuracy: 0.6310\n",
            "Epoch 2/20\n",
            "16/16 [==============================] - 0s 20ms/step - loss: 1.4892 - accuracy: 0.6889 - val_loss: 1.3357 - val_accuracy: 0.7030\n",
            "Epoch 3/20\n",
            "16/16 [==============================] - 0s 25ms/step - loss: 1.1321 - accuracy: 0.7494 - val_loss: 1.1729 - val_accuracy: 0.7290\n",
            "Epoch 4/20\n",
            "16/16 [==============================] - 0s 24ms/step - loss: 0.9236 - accuracy: 0.7970 - val_loss: 1.0676 - val_accuracy: 0.7550\n",
            "Epoch 5/20\n",
            "16/16 [==============================] - 0s 20ms/step - loss: 0.7609 - accuracy: 0.8335 - val_loss: 0.9862 - val_accuracy: 0.7870\n",
            "Epoch 6/20\n",
            "16/16 [==============================] - 0s 22ms/step - loss: 0.6267 - accuracy: 0.8662 - val_loss: 0.9448 - val_accuracy: 0.7990\n",
            "Epoch 7/20\n",
            "16/16 [==============================] - 0s 21ms/step - loss: 0.5213 - accuracy: 0.8920 - val_loss: 0.9137 - val_accuracy: 0.8030\n",
            "Epoch 8/20\n",
            "16/16 [==============================] - 0s 22ms/step - loss: 0.4346 - accuracy: 0.9109 - val_loss: 0.8792 - val_accuracy: 0.8120\n",
            "Epoch 9/20\n",
            "16/16 [==============================] - 0s 23ms/step - loss: 0.3657 - accuracy: 0.9247 - val_loss: 0.8715 - val_accuracy: 0.8160\n",
            "Epoch 10/20\n",
            "16/16 [==============================] - 0s 17ms/step - loss: 0.3144 - accuracy: 0.9330 - val_loss: 0.8630 - val_accuracy: 0.8240\n",
            "Epoch 11/20\n",
            "16/16 [==============================] - 0s 18ms/step - loss: 0.2693 - accuracy: 0.9429 - val_loss: 0.8702 - val_accuracy: 0.8210\n",
            "Epoch 12/20\n",
            "16/16 [==============================] - 0s 17ms/step - loss: 0.2394 - accuracy: 0.9460 - val_loss: 0.9100 - val_accuracy: 0.8160\n",
            "Epoch 13/20\n",
            "16/16 [==============================] - 0s 18ms/step - loss: 0.2098 - accuracy: 0.9498 - val_loss: 0.9076 - val_accuracy: 0.8270\n",
            "Epoch 14/20\n",
            "16/16 [==============================] - 0s 19ms/step - loss: 0.1903 - accuracy: 0.9535 - val_loss: 0.9370 - val_accuracy: 0.8050\n",
            "Epoch 15/20\n",
            "16/16 [==============================] - 0s 17ms/step - loss: 0.1745 - accuracy: 0.9520 - val_loss: 0.9677 - val_accuracy: 0.8070\n",
            "Epoch 16/20\n",
            "16/16 [==============================] - 0s 17ms/step - loss: 0.1602 - accuracy: 0.9558 - val_loss: 0.9212 - val_accuracy: 0.8260\n",
            "Epoch 17/20\n",
            "16/16 [==============================] - 0s 20ms/step - loss: 0.1504 - accuracy: 0.9557 - val_loss: 0.9505 - val_accuracy: 0.8010\n",
            "Epoch 18/20\n",
            "16/16 [==============================] - 0s 19ms/step - loss: 0.1439 - accuracy: 0.9559 - val_loss: 0.9689 - val_accuracy: 0.8110\n",
            "Epoch 19/20\n",
            "16/16 [==============================] - 0s 17ms/step - loss: 0.1348 - accuracy: 0.9578 - val_loss: 0.9703 - val_accuracy: 0.8080\n",
            "Epoch 20/20\n",
            "16/16 [==============================] - 0s 20ms/step - loss: 0.1301 - accuracy: 0.9573 - val_loss: 0.9451 - val_accuracy: 0.8210\n",
            "Epoch 1/20\n",
            "16/16 [==============================] - 1s 33ms/step - loss: 2.3562 - accuracy: 0.5267 - val_loss: 1.5366 - val_accuracy: 0.6450\n",
            "Epoch 2/20\n",
            "16/16 [==============================] - 0s 20ms/step - loss: 1.2760 - accuracy: 0.7226 - val_loss: 1.1992 - val_accuracy: 0.7250\n",
            "Epoch 3/20\n",
            "16/16 [==============================] - 0s 17ms/step - loss: 0.9754 - accuracy: 0.7873 - val_loss: 1.0345 - val_accuracy: 0.7770\n",
            "Epoch 4/20\n",
            "16/16 [==============================] - 0s 20ms/step - loss: 0.7395 - accuracy: 0.8408 - val_loss: 0.9596 - val_accuracy: 0.7890\n",
            "Epoch 5/20\n",
            "16/16 [==============================] - 0s 20ms/step - loss: 0.5889 - accuracy: 0.8728 - val_loss: 0.9015 - val_accuracy: 0.7940\n",
            "Epoch 6/20\n",
            "16/16 [==============================] - 0s 20ms/step - loss: 0.4629 - accuracy: 0.9012 - val_loss: 0.8417 - val_accuracy: 0.8230\n",
            "Epoch 7/20\n",
            "16/16 [==============================] - 0s 26ms/step - loss: 0.3672 - accuracy: 0.9212 - val_loss: 0.9020 - val_accuracy: 0.8090\n",
            "Epoch 8/20\n",
            "16/16 [==============================] - 0s 23ms/step - loss: 0.3054 - accuracy: 0.9334 - val_loss: 0.8513 - val_accuracy: 0.8180\n",
            "Epoch 9/20\n",
            "16/16 [==============================] - 0s 24ms/step - loss: 0.2511 - accuracy: 0.9422 - val_loss: 0.9035 - val_accuracy: 0.8080\n",
            "Epoch 10/20\n",
            "16/16 [==============================] - 0s 24ms/step - loss: 0.2258 - accuracy: 0.9446 - val_loss: 0.8548 - val_accuracy: 0.8240\n",
            "Epoch 11/20\n",
            "16/16 [==============================] - 0s 25ms/step - loss: 0.1913 - accuracy: 0.9524 - val_loss: 0.9082 - val_accuracy: 0.8110\n",
            "Epoch 12/20\n",
            "16/16 [==============================] - 0s 26ms/step - loss: 0.1804 - accuracy: 0.9536 - val_loss: 0.8823 - val_accuracy: 0.8140\n",
            "Epoch 13/20\n",
            "16/16 [==============================] - 0s 17ms/step - loss: 0.1657 - accuracy: 0.9529 - val_loss: 0.8917 - val_accuracy: 0.8230\n",
            "Epoch 14/20\n",
            "16/16 [==============================] - 0s 18ms/step - loss: 0.1507 - accuracy: 0.9551 - val_loss: 0.9238 - val_accuracy: 0.8160\n",
            "Epoch 15/20\n",
            "16/16 [==============================] - 0s 19ms/step - loss: 0.1452 - accuracy: 0.9564 - val_loss: 0.9579 - val_accuracy: 0.8140\n",
            "Epoch 16/20\n",
            "16/16 [==============================] - 0s 18ms/step - loss: 0.1317 - accuracy: 0.9580 - val_loss: 0.9235 - val_accuracy: 0.8170\n",
            "Epoch 17/20\n",
            "16/16 [==============================] - 0s 18ms/step - loss: 0.1355 - accuracy: 0.9579 - val_loss: 0.8999 - val_accuracy: 0.8270\n",
            "Epoch 18/20\n",
            "16/16 [==============================] - 1s 33ms/step - loss: 0.1287 - accuracy: 0.9564 - val_loss: 0.9366 - val_accuracy: 0.8250\n",
            "Epoch 19/20\n",
            "16/16 [==============================] - 0s 18ms/step - loss: 0.1297 - accuracy: 0.9553 - val_loss: 0.9184 - val_accuracy: 0.8310\n",
            "Epoch 20/20\n",
            "16/16 [==============================] - 0s 23ms/step - loss: 0.1195 - accuracy: 0.9587 - val_loss: 0.9887 - val_accuracy: 0.8090\n",
            "Epoch 1/20\n",
            "16/16 [==============================] - 2s 32ms/step - loss: 2.5444 - accuracy: 0.5185 - val_loss: 1.7055 - val_accuracy: 0.6070\n",
            "Epoch 2/20\n",
            "16/16 [==============================] - 0s 18ms/step - loss: 1.4756 - accuracy: 0.6780 - val_loss: 1.3435 - val_accuracy: 0.6970\n",
            "Epoch 3/20\n",
            "16/16 [==============================] - 0s 18ms/step - loss: 1.1575 - accuracy: 0.7418 - val_loss: 1.1573 - val_accuracy: 0.7390\n",
            "Epoch 4/20\n",
            "16/16 [==============================] - 0s 20ms/step - loss: 0.9439 - accuracy: 0.7925 - val_loss: 1.0499 - val_accuracy: 0.7740\n",
            "Epoch 5/20\n",
            "16/16 [==============================] - 0s 19ms/step - loss: 0.7732 - accuracy: 0.8300 - val_loss: 0.9677 - val_accuracy: 0.8010\n",
            "Epoch 6/20\n",
            "16/16 [==============================] - 0s 17ms/step - loss: 0.6350 - accuracy: 0.8612 - val_loss: 1.0071 - val_accuracy: 0.7720\n",
            "Epoch 7/20\n",
            "16/16 [==============================] - 0s 17ms/step - loss: 0.5263 - accuracy: 0.8866 - val_loss: 0.8886 - val_accuracy: 0.8120\n",
            "Epoch 8/20\n",
            "16/16 [==============================] - 0s 18ms/step - loss: 0.4369 - accuracy: 0.9082 - val_loss: 0.8952 - val_accuracy: 0.8080\n",
            "Epoch 9/20\n",
            "16/16 [==============================] - 0s 18ms/step - loss: 0.3583 - accuracy: 0.9246 - val_loss: 0.8432 - val_accuracy: 0.8140\n",
            "Epoch 10/20\n",
            "16/16 [==============================] - 0s 20ms/step - loss: 0.3090 - accuracy: 0.9340 - val_loss: 0.8847 - val_accuracy: 0.8030\n",
            "Epoch 11/20\n",
            "16/16 [==============================] - 0s 18ms/step - loss: 0.2599 - accuracy: 0.9417 - val_loss: 0.8814 - val_accuracy: 0.8110\n",
            "Epoch 12/20\n",
            "16/16 [==============================] - 0s 20ms/step - loss: 0.2358 - accuracy: 0.9453 - val_loss: 0.8558 - val_accuracy: 0.8250\n",
            "Epoch 13/20\n",
            "16/16 [==============================] - 0s 19ms/step - loss: 0.1969 - accuracy: 0.9514 - val_loss: 0.8834 - val_accuracy: 0.8100\n",
            "Epoch 14/20\n",
            "16/16 [==============================] - 0s 17ms/step - loss: 0.1810 - accuracy: 0.9550 - val_loss: 0.9095 - val_accuracy: 0.8050\n",
            "Epoch 15/20\n",
            "16/16 [==============================] - 0s 18ms/step - loss: 0.1651 - accuracy: 0.9559 - val_loss: 0.9063 - val_accuracy: 0.8150\n",
            "Epoch 16/20\n",
            "16/16 [==============================] - 0s 18ms/step - loss: 0.1578 - accuracy: 0.9540 - val_loss: 0.9258 - val_accuracy: 0.8090\n",
            "Epoch 17/20\n",
            "16/16 [==============================] - 0s 18ms/step - loss: 0.1408 - accuracy: 0.9565 - val_loss: 0.9329 - val_accuracy: 0.8190\n",
            "Epoch 18/20\n",
            "16/16 [==============================] - 0s 24ms/step - loss: 0.1371 - accuracy: 0.9563 - val_loss: 0.9407 - val_accuracy: 0.8160\n",
            "Epoch 19/20\n",
            "16/16 [==============================] - 0s 20ms/step - loss: 0.1350 - accuracy: 0.9582 - val_loss: 0.9623 - val_accuracy: 0.8110\n",
            "Epoch 20/20\n",
            "16/16 [==============================] - 0s 23ms/step - loss: 0.1278 - accuracy: 0.9570 - val_loss: 0.9716 - val_accuracy: 0.8120\n",
            "Epoch 1/20\n",
            "16/16 [==============================] - 1s 32ms/step - loss: 2.4838 - accuracy: 0.5100 - val_loss: 1.6498 - val_accuracy: 0.6280\n",
            "Epoch 2/20\n",
            "16/16 [==============================] - 0s 20ms/step - loss: 1.3732 - accuracy: 0.6972 - val_loss: 1.2713 - val_accuracy: 0.7120\n",
            "Epoch 3/20\n",
            "16/16 [==============================] - 0s 17ms/step - loss: 1.0373 - accuracy: 0.7720 - val_loss: 1.0689 - val_accuracy: 0.7670\n",
            "Epoch 4/20\n",
            "16/16 [==============================] - 0s 19ms/step - loss: 0.8150 - accuracy: 0.8221 - val_loss: 0.9644 - val_accuracy: 0.7980\n",
            "Epoch 5/20\n",
            "16/16 [==============================] - 0s 18ms/step - loss: 0.6578 - accuracy: 0.8593 - val_loss: 0.9799 - val_accuracy: 0.7780\n",
            "Epoch 6/20\n",
            "16/16 [==============================] - 0s 19ms/step - loss: 0.5280 - accuracy: 0.8911 - val_loss: 0.8602 - val_accuracy: 0.8070\n",
            "Epoch 7/20\n",
            "16/16 [==============================] - 0s 19ms/step - loss: 0.4293 - accuracy: 0.9067 - val_loss: 0.8474 - val_accuracy: 0.8210\n",
            "Epoch 8/20\n",
            "16/16 [==============================] - 0s 20ms/step - loss: 0.3579 - accuracy: 0.9232 - val_loss: 0.8139 - val_accuracy: 0.8160\n",
            "Epoch 9/20\n",
            "16/16 [==============================] - 0s 18ms/step - loss: 0.2950 - accuracy: 0.9339 - val_loss: 0.8418 - val_accuracy: 0.8130\n",
            "Epoch 10/20\n",
            "16/16 [==============================] - 0s 18ms/step - loss: 0.2591 - accuracy: 0.9424 - val_loss: 0.8150 - val_accuracy: 0.8220\n",
            "Epoch 11/20\n",
            "16/16 [==============================] - 0s 20ms/step - loss: 0.2225 - accuracy: 0.9460 - val_loss: 0.8489 - val_accuracy: 0.8060\n",
            "Epoch 12/20\n",
            "16/16 [==============================] - 0s 17ms/step - loss: 0.2000 - accuracy: 0.9495 - val_loss: 0.8439 - val_accuracy: 0.8180\n",
            "Epoch 13/20\n",
            "16/16 [==============================] - 0s 18ms/step - loss: 0.1780 - accuracy: 0.9523 - val_loss: 0.8363 - val_accuracy: 0.8220\n",
            "Epoch 14/20\n",
            "16/16 [==============================] - 0s 20ms/step - loss: 0.1620 - accuracy: 0.9540 - val_loss: 0.8657 - val_accuracy: 0.8120\n",
            "Epoch 15/20\n",
            "16/16 [==============================] - 0s 17ms/step - loss: 0.1532 - accuracy: 0.9543 - val_loss: 0.8479 - val_accuracy: 0.8220\n",
            "Epoch 16/20\n",
            "16/16 [==============================] - 0s 17ms/step - loss: 0.1466 - accuracy: 0.9564 - val_loss: 0.9194 - val_accuracy: 0.8070\n",
            "Epoch 17/20\n",
            "16/16 [==============================] - 0s 18ms/step - loss: 0.1285 - accuracy: 0.9569 - val_loss: 0.8780 - val_accuracy: 0.8200\n",
            "Epoch 18/20\n",
            "16/16 [==============================] - 0s 19ms/step - loss: 0.1312 - accuracy: 0.9573 - val_loss: 0.8964 - val_accuracy: 0.8080\n",
            "Epoch 19/20\n",
            "16/16 [==============================] - 0s 17ms/step - loss: 0.1300 - accuracy: 0.9563 - val_loss: 0.9296 - val_accuracy: 0.8130\n",
            "Epoch 20/20\n",
            "16/16 [==============================] - 0s 27ms/step - loss: 0.1228 - accuracy: 0.9575 - val_loss: 0.9181 - val_accuracy: 0.8120\n"
          ]
        }
      ]
    },
    {
      "cell_type": "markdown",
      "metadata": {
        "id": "l3dqoSqLxh6l"
      },
      "source": [
        "### Generating predictions on new data"
      ]
    },
    {
      "cell_type": "code",
      "metadata": {
        "id": "uYgeNbuqtyXm",
        "colab": {
          "base_uri": "https://localhost:8080/"
        },
        "outputId": "fe563e64-a816-4f08-afcd-6fa45fac8b90"
      },
      "source": [
        "predictions = model2.predict(x_test)"
      ],
      "execution_count": null,
      "outputs": [
        {
          "output_type": "stream",
          "name": "stdout",
          "text": [
            "71/71 [==============================] - 0s 3ms/step\n"
          ]
        }
      ]
    },
    {
      "cell_type": "code",
      "metadata": {
        "colab": {
          "base_uri": "https://localhost:8080/"
        },
        "id": "wmT-HLN-tyXn",
        "outputId": "741652fb-1c82-4f73-8257-c9575ecf3b1c"
      },
      "source": [
        "predictions[0].shape"
      ],
      "execution_count": null,
      "outputs": [
        {
          "output_type": "execute_result",
          "data": {
            "text/plain": [
              "(46,)"
            ]
          },
          "metadata": {},
          "execution_count": 41
        }
      ]
    },
    {
      "cell_type": "code",
      "metadata": {
        "colab": {
          "base_uri": "https://localhost:8080/"
        },
        "id": "HRZlehzityXp",
        "outputId": "9bd35c2c-23a2-49a6-df5b-ed20a1e495d5"
      },
      "source": [
        "np.sum(predictions[0])"
      ],
      "execution_count": null,
      "outputs": [
        {
          "output_type": "execute_result",
          "data": {
            "text/plain": [
              "1.0000001"
            ]
          },
          "metadata": {},
          "execution_count": 42
        }
      ]
    },
    {
      "cell_type": "code",
      "metadata": {
        "colab": {
          "base_uri": "https://localhost:8080/"
        },
        "id": "YpKyKUaAtyXp",
        "outputId": "de4a06c0-0b65-4038-c4ae-2922004f1d47"
      },
      "source": [
        "np.argmax(predictions[0])"
      ],
      "execution_count": null,
      "outputs": [
        {
          "output_type": "execute_result",
          "data": {
            "text/plain": [
              "3"
            ]
          },
          "metadata": {},
          "execution_count": 43
        }
      ]
    },
    {
      "cell_type": "markdown",
      "metadata": {
        "id": "fl1SvjrIxh6m"
      },
      "source": [
        "## **PART 3 - Regression for house price estimation using the Boston Housing Price dataset**"
      ]
    },
    {
      "cell_type": "markdown",
      "metadata": {
        "id": "OxNY2Tttxh6m"
      },
      "source": [
        "### The Boston Housing Price dataset\n",
        "\n",
        "**WARNING**: This dataset has an ethical problem: [the authors of this dataset included a variable, \"B\", that may appear to assume that racial self-segregation influences house prices](http://lib.stat.cmu.edu/datasets/boston).\n",
        "\n",
        "I've decided to keep it in this Project to provide an early concrete example of fairness, bias, and related ethical issues in data science, machine learning, deep learning, and AI."
      ]
    },
    {
      "cell_type": "markdown",
      "metadata": {
        "id": "xH8hygQBxh6m"
      },
      "source": [
        "#### Loading the Boston housing dataset"
      ]
    },
    {
      "cell_type": "code",
      "metadata": {
        "id": "Bw_cuN9_xh6m",
        "colab": {
          "base_uri": "https://localhost:8080/"
        },
        "outputId": "625623e5-d8e3-4d28-f043-4b6d92a7082d"
      },
      "source": [
        "from tensorflow.keras.datasets import boston_housing\n",
        "(train_data, train_targets), (test_data, test_targets) = boston_housing.load_data()"
      ],
      "execution_count": null,
      "outputs": [
        {
          "output_type": "stream",
          "name": "stdout",
          "text": [
            "Downloading data from https://storage.googleapis.com/tensorflow/tf-keras-datasets/boston_housing.npz\n",
            "57026/57026 [==============================] - 0s 0us/step\n"
          ]
        }
      ]
    },
    {
      "cell_type": "code",
      "metadata": {
        "id": "qcQzcVTTxh6m",
        "colab": {
          "base_uri": "https://localhost:8080/"
        },
        "outputId": "23102d5d-27c8-4f04-9df9-803bda0286ae"
      },
      "source": [
        "train_data.shape"
      ],
      "execution_count": null,
      "outputs": [
        {
          "output_type": "execute_result",
          "data": {
            "text/plain": [
              "(404, 13)"
            ]
          },
          "metadata": {},
          "execution_count": 45
        }
      ]
    },
    {
      "cell_type": "code",
      "metadata": {
        "id": "mqRzjeWdxh6m",
        "colab": {
          "base_uri": "https://localhost:8080/"
        },
        "outputId": "7bd4df5d-4b0f-4c7e-eff5-942cc12b508f"
      },
      "source": [
        "test_data.shape"
      ],
      "execution_count": null,
      "outputs": [
        {
          "output_type": "execute_result",
          "data": {
            "text/plain": [
              "(102, 13)"
            ]
          },
          "metadata": {},
          "execution_count": 46
        }
      ]
    },
    {
      "cell_type": "code",
      "metadata": {
        "id": "2DKZJfIFxh6m",
        "colab": {
          "base_uri": "https://localhost:8080/"
        },
        "outputId": "2a35fe01-4d88-473e-a053-b6aad0714112"
      },
      "source": [
        "train_targets"
      ],
      "execution_count": null,
      "outputs": [
        {
          "output_type": "execute_result",
          "data": {
            "text/plain": [
              "array([15.2, 42.3, 50. , 21.1, 17.7, 18.5, 11.3, 15.6, 15.6, 14.4, 12.1,\n",
              "       17.9, 23.1, 19.9, 15.7,  8.8, 50. , 22.5, 24.1, 27.5, 10.9, 30.8,\n",
              "       32.9, 24. , 18.5, 13.3, 22.9, 34.7, 16.6, 17.5, 22.3, 16.1, 14.9,\n",
              "       23.1, 34.9, 25. , 13.9, 13.1, 20.4, 20. , 15.2, 24.7, 22.2, 16.7,\n",
              "       12.7, 15.6, 18.4, 21. , 30.1, 15.1, 18.7,  9.6, 31.5, 24.8, 19.1,\n",
              "       22. , 14.5, 11. , 32. , 29.4, 20.3, 24.4, 14.6, 19.5, 14.1, 14.3,\n",
              "       15.6, 10.5,  6.3, 19.3, 19.3, 13.4, 36.4, 17.8, 13.5, 16.5,  8.3,\n",
              "       14.3, 16. , 13.4, 28.6, 43.5, 20.2, 22. , 23. , 20.7, 12.5, 48.5,\n",
              "       14.6, 13.4, 23.7, 50. , 21.7, 39.8, 38.7, 22.2, 34.9, 22.5, 31.1,\n",
              "       28.7, 46. , 41.7, 21. , 26.6, 15. , 24.4, 13.3, 21.2, 11.7, 21.7,\n",
              "       19.4, 50. , 22.8, 19.7, 24.7, 36.2, 14.2, 18.9, 18.3, 20.6, 24.6,\n",
              "       18.2,  8.7, 44. , 10.4, 13.2, 21.2, 37. , 30.7, 22.9, 20. , 19.3,\n",
              "       31.7, 32. , 23.1, 18.8, 10.9, 50. , 19.6,  5. , 14.4, 19.8, 13.8,\n",
              "       19.6, 23.9, 24.5, 25. , 19.9, 17.2, 24.6, 13.5, 26.6, 21.4, 11.9,\n",
              "       22.6, 19.6,  8.5, 23.7, 23.1, 22.4, 20.5, 23.6, 18.4, 35.2, 23.1,\n",
              "       27.9, 20.6, 23.7, 28. , 13.6, 27.1, 23.6, 20.6, 18.2, 21.7, 17.1,\n",
              "        8.4, 25.3, 13.8, 22.2, 18.4, 20.7, 31.6, 30.5, 20.3,  8.8, 19.2,\n",
              "       19.4, 23.1, 23. , 14.8, 48.8, 22.6, 33.4, 21.1, 13.6, 32.2, 13.1,\n",
              "       23.4, 18.9, 23.9, 11.8, 23.3, 22.8, 19.6, 16.7, 13.4, 22.2, 20.4,\n",
              "       21.8, 26.4, 14.9, 24.1, 23.8, 12.3, 29.1, 21. , 19.5, 23.3, 23.8,\n",
              "       17.8, 11.5, 21.7, 19.9, 25. , 33.4, 28.5, 21.4, 24.3, 27.5, 33.1,\n",
              "       16.2, 23.3, 48.3, 22.9, 22.8, 13.1, 12.7, 22.6, 15. , 15.3, 10.5,\n",
              "       24. , 18.5, 21.7, 19.5, 33.2, 23.2,  5. , 19.1, 12.7, 22.3, 10.2,\n",
              "       13.9, 16.3, 17. , 20.1, 29.9, 17.2, 37.3, 45.4, 17.8, 23.2, 29. ,\n",
              "       22. , 18. , 17.4, 34.6, 20.1, 25. , 15.6, 24.8, 28.2, 21.2, 21.4,\n",
              "       23.8, 31. , 26.2, 17.4, 37.9, 17.5, 20. ,  8.3, 23.9,  8.4, 13.8,\n",
              "        7.2, 11.7, 17.1, 21.6, 50. , 16.1, 20.4, 20.6, 21.4, 20.6, 36.5,\n",
              "        8.5, 24.8, 10.8, 21.9, 17.3, 18.9, 36.2, 14.9, 18.2, 33.3, 21.8,\n",
              "       19.7, 31.6, 24.8, 19.4, 22.8,  7.5, 44.8, 16.8, 18.7, 50. , 50. ,\n",
              "       19.5, 20.1, 50. , 17.2, 20.8, 19.3, 41.3, 20.4, 20.5, 13.8, 16.5,\n",
              "       23.9, 20.6, 31.5, 23.3, 16.8, 14. , 33.8, 36.1, 12.8, 18.3, 18.7,\n",
              "       19.1, 29. , 30.1, 50. , 50. , 22. , 11.9, 37.6, 50. , 22.7, 20.8,\n",
              "       23.5, 27.9, 50. , 19.3, 23.9, 22.6, 15.2, 21.7, 19.2, 43.8, 20.3,\n",
              "       33.2, 19.9, 22.5, 32.7, 22. , 17.1, 19. , 15. , 16.1, 25.1, 23.7,\n",
              "       28.7, 37.2, 22.6, 16.4, 25. , 29.8, 22.1, 17.4, 18.1, 30.3, 17.5,\n",
              "       24.7, 12.6, 26.5, 28.7, 13.3, 10.4, 24.4, 23. , 20. , 17.8,  7. ,\n",
              "       11.8, 24.4, 13.8, 19.4, 25.2, 19.4, 19.4, 29.1])"
            ]
          },
          "metadata": {},
          "execution_count": 47
        }
      ]
    },
    {
      "cell_type": "markdown",
      "metadata": {
        "id": "mRV06OTNxh6m"
      },
      "source": [
        "### Preparing the data"
      ]
    },
    {
      "cell_type": "markdown",
      "metadata": {
        "id": "NUDEXKrnxh6m"
      },
      "source": [
        "#### Normalizing the data"
      ]
    },
    {
      "cell_type": "code",
      "metadata": {
        "id": "xTNRwpHZxh6m"
      },
      "source": [
        "mean = train_data.mean(axis=0)\n",
        "train_data -= mean\n",
        "std = train_data.std(axis=0)\n",
        "train_data /= std\n",
        "test_data -= mean\n",
        "test_data /= std"
      ],
      "execution_count": null,
      "outputs": []
    },
    {
      "cell_type": "markdown",
      "metadata": {
        "id": "Ak5QuOrRxh6m"
      },
      "source": [
        "### Building your model"
      ]
    },
    {
      "cell_type": "markdown",
      "metadata": {
        "id": "5_LQDquRxh6m"
      },
      "source": [
        "#### Model definition"
      ]
    },
    {
      "cell_type": "code",
      "metadata": {
        "id": "EH4VsMNyxh6m"
      },
      "source": [
        "def build_model3():\n",
        "    model3 = keras.Sequential([\n",
        "        layers.Dense(64, activation=\"relu\"),\n",
        "        layers.Dense(64, activation=\"relu\"),\n",
        "        layers.Dense(1)\n",
        "    ])\n",
        "    model3.compile(optimizer=\"rmsprop\", loss=\"mse\", metrics=[\"mae\"])\n",
        "    return model3"
      ],
      "execution_count": null,
      "outputs": []
    },
    {
      "cell_type": "markdown",
      "metadata": {
        "id": "8_Y_2x1bxh6m"
      },
      "source": [
        "### Validating your approach using K-fold validation"
      ]
    },
    {
      "cell_type": "code",
      "metadata": {
        "id": "lP3j1z76xh6m",
        "colab": {
          "base_uri": "https://localhost:8080/"
        },
        "outputId": "8f2ad713-af32-4793-d667-20ae04f7ebc0"
      },
      "source": [
        "k = 4\n",
        "num_val_samples = len(train_data) // k\n",
        "num_epochs = 100\n",
        "all_scores = []\n",
        "for i in range(k):\n",
        "    print(f\"Processing fold #{i}\")\n",
        "    val_data = train_data[i * num_val_samples: (i + 1) * num_val_samples]\n",
        "    val_targets = train_targets[i * num_val_samples: (i + 1) * num_val_samples]\n",
        "    partial_train_data = np.concatenate(\n",
        "        [train_data[:i * num_val_samples],\n",
        "         train_data[(i + 1) * num_val_samples:]],\n",
        "        axis=0)\n",
        "    partial_train_targets = np.concatenate(\n",
        "        [train_targets[:i * num_val_samples],\n",
        "         train_targets[(i + 1) * num_val_samples:]],\n",
        "        axis=0)\n",
        "    model3 = build_model3()\n",
        "    model3.fit(partial_train_data, partial_train_targets,\n",
        "              epochs=num_epochs, batch_size=16, verbose=0)\n",
        "    val_mse, val_mae = model3.evaluate(val_data, val_targets, verbose=0)\n",
        "    all_scores.append(val_mae)"
      ],
      "execution_count": null,
      "outputs": [
        {
          "output_type": "stream",
          "name": "stdout",
          "text": [
            "Processing fold #0\n",
            "Processing fold #1\n",
            "Processing fold #2\n",
            "Processing fold #3\n"
          ]
        }
      ]
    },
    {
      "cell_type": "code",
      "metadata": {
        "id": "nj-3RiYaxh6m",
        "colab": {
          "base_uri": "https://localhost:8080/"
        },
        "outputId": "8d36e0dd-b5a6-4dca-911e-f824875b131b"
      },
      "source": [
        "all_scores"
      ],
      "execution_count": null,
      "outputs": [
        {
          "output_type": "execute_result",
          "data": {
            "text/plain": [
              "[2.180666208267212, 2.4554355144500732, 2.5612735748291016, 2.4511754512786865]"
            ]
          },
          "metadata": {},
          "execution_count": 51
        }
      ]
    },
    {
      "cell_type": "code",
      "metadata": {
        "id": "TbaipzZZxh6m",
        "colab": {
          "base_uri": "https://localhost:8080/"
        },
        "outputId": "1b98ab39-2357-4345-9a39-1195f26b1757"
      },
      "source": [
        "np.mean(all_scores)"
      ],
      "execution_count": null,
      "outputs": [
        {
          "output_type": "execute_result",
          "data": {
            "text/plain": [
              "2.4121376872062683"
            ]
          },
          "metadata": {},
          "execution_count": 52
        }
      ]
    },
    {
      "cell_type": "markdown",
      "metadata": {
        "id": "AvBk8lMRxh6m"
      },
      "source": [
        "#### Saving the validation logs at each fold"
      ]
    },
    {
      "cell_type": "code",
      "metadata": {
        "id": "-VaF--Ztxh6m",
        "colab": {
          "base_uri": "https://localhost:8080/"
        },
        "outputId": "2c7ccbe8-29db-4af2-e9d8-e2ac2640bef7"
      },
      "source": [
        "num_epochs = 500\n",
        "all_mae_histories = []\n",
        "for i in range(k):\n",
        "    print(f\"Processing fold #{i}\")\n",
        "    val_data = train_data[i * num_val_samples: (i + 1) * num_val_samples]\n",
        "    val_targets = train_targets[i * num_val_samples: (i + 1) * num_val_samples]\n",
        "    partial_train_data = np.concatenate(\n",
        "        [train_data[:i * num_val_samples],\n",
        "         train_data[(i + 1) * num_val_samples:]],\n",
        "        axis=0)\n",
        "    partial_train_targets = np.concatenate(\n",
        "        [train_targets[:i * num_val_samples],\n",
        "         train_targets[(i + 1) * num_val_samples:]],\n",
        "        axis=0)\n",
        "    model3 = build_model3()\n",
        "    history = model3.fit(partial_train_data, partial_train_targets,\n",
        "                        validation_data=(val_data, val_targets),\n",
        "                        epochs=num_epochs, batch_size=16, verbose=0)\n",
        "    mae_history = history.history[\"val_mae\"]\n",
        "    all_mae_histories.append(mae_history)"
      ],
      "execution_count": null,
      "outputs": [
        {
          "output_type": "stream",
          "name": "stdout",
          "text": [
            "Processing fold #0\n",
            "Processing fold #1\n",
            "Processing fold #2\n",
            "Processing fold #3\n"
          ]
        }
      ]
    },
    {
      "cell_type": "markdown",
      "metadata": {
        "id": "qxhUlr1bxh6m"
      },
      "source": [
        "#### Building the history of successive mean K-fold validation scores"
      ]
    },
    {
      "cell_type": "code",
      "metadata": {
        "id": "scyLRwsnxh6m"
      },
      "source": [
        "average_mae_history = [\n",
        "    np.mean([x[i] for x in all_mae_histories]) for i in range(num_epochs)]"
      ],
      "execution_count": null,
      "outputs": []
    },
    {
      "cell_type": "markdown",
      "metadata": {
        "id": "tL1rhvLNxh6m"
      },
      "source": [
        "#### Plotting validation scores"
      ]
    },
    {
      "cell_type": "code",
      "metadata": {
        "id": "_AtGOs8kxh6n",
        "colab": {
          "base_uri": "https://localhost:8080/",
          "height": 449
        },
        "outputId": "d24dbafd-11ac-4d04-e182-b13be094409a"
      },
      "source": [
        "plt.plot(range(1, len(average_mae_history) + 1), average_mae_history)\n",
        "plt.xlabel(\"Epochs\")\n",
        "plt.ylabel(\"Validation MAE\")\n",
        "plt.show()"
      ],
      "execution_count": null,
      "outputs": [
        {
          "output_type": "display_data",
          "data": {
            "text/plain": [
              "<Figure size 640x480 with 1 Axes>"
            ],
            "image/png": "[encoded data removed]"
          },
          "metadata": {}
        }
      ]
    },
    {
      "cell_type": "markdown",
      "metadata": {
        "id": "88VzqTeDxh6n"
      },
      "source": [
        "#### Plotting validation scores, excluding the first 10 data points"
      ]
    },
    {
      "cell_type": "code",
      "metadata": {
        "id": "nJcHbmEjxh6n",
        "colab": {
          "base_uri": "https://localhost:8080/",
          "height": 449
        },
        "outputId": "8c925c39-01d1-426f-b74a-ed98365842ef"
      },
      "source": [
        "truncated_mae_history = average_mae_history[10:]\n",
        "plt.plot(range(1, len(truncated_mae_history) + 1), truncated_mae_history)\n",
        "plt.xlabel(\"Epochs\")\n",
        "plt.ylabel(\"Validation MAE\")\n",
        "plt.show()"
      ],
      "execution_count": null,
      "outputs": [
        {
          "output_type": "display_data",
          "data": {
            "text/plain": [
              "<Figure size 640x480 with 1 Axes>"
            ],
            "image/png": "[encoded data removed]"
          },
          "metadata": {}
        }
      ]
    },
    {
      "cell_type": "markdown",
      "metadata": {
        "id": "64vzjBATxh6n"
      },
      "source": [
        "### Training the final model"
      ]
    },
    {
      "cell_type": "code",
      "metadata": {
        "id": "0VDrjPVZxh6n",
        "colab": {
          "base_uri": "https://localhost:8080/"
        },
        "outputId": "3ae75765-8ed5-4fa7-adfc-dd8656faf645"
      },
      "source": [
        "model3 = build_model3()\n",
        "model3.fit(train_data, train_targets,\n",
        "          epochs=130, batch_size=16, verbose=0)\n",
        "test_mse_score, test_mae_score = model3.evaluate(test_data, test_targets)"
      ],
      "execution_count": null,
      "outputs": [
        {
          "output_type": "stream",
          "name": "stdout",
          "text": [
            "4/4 [==============================] - 0s 4ms/step - loss: 17.8082 - mae: 2.8336\n"
          ]
        }
      ]
    },
    {
      "cell_type": "code",
      "metadata": {
        "id": "3hZCLbhbxh6n",
        "colab": {
          "base_uri": "https://localhost:8080/"
        },
        "outputId": "e1c5771c-5a6e-4807-dc45-e64db1901a0a"
      },
      "source": [
        "test_mae_score"
      ],
      "execution_count": null,
      "outputs": [
        {
          "output_type": "execute_result",
          "data": {
            "text/plain": [
              "2.833569049835205"
            ]
          },
          "metadata": {},
          "execution_count": 58
        }
      ]
    },
    {
      "cell_type": "markdown",
      "metadata": {
        "id": "DowlbY9Sxh6n"
      },
      "source": [
        "### Generating predictions on new data"
      ]
    },
    {
      "cell_type": "code",
      "metadata": {
        "id": "qSVLepPHxh6n",
        "colab": {
          "base_uri": "https://localhost:8080/"
        },
        "outputId": "d2935e59-1d47-4c22-9967-e7fa6b2df2eb"
      },
      "source": [
        "predictions = model3.predict(test_data)\n",
        "predictions[0]"
      ],
      "execution_count": null,
      "outputs": [
        {
          "output_type": "stream",
          "name": "stdout",
          "text": [
            "4/4 [==============================] - 0s 3ms/step\n"
          ]
        },
        {
          "output_type": "execute_result",
          "data": {
            "text/plain": [
              "array([8.894519], dtype=float32)"
            ]
          },
          "metadata": {},
          "execution_count": 59
        }
      ]
    },
    {
      "cell_type": "markdown",
      "source": [
        "## **PART 3** - *Your Turn*  "
      ],
      "metadata": {
        "id": "w4kXP53osRtD"
      }
    },
    {
      "cell_type": "markdown",
      "source": [
        "### **Part 3- Tasks:**   \n",
        "\n",
        "**3.1  &emsp;(*Required*) - 10 points each**\n",
        "\n",
        " &emsp;**3.1.1** What type of preprocessing was applied to the raw input data? Why was it necessary to do so?\n",
        "\n",
        " &emsp;**3.1.2** Why is this problem a case of regression (rather than classification)?\n",
        "\n",
        " &emsp;**3.1.3** Does your model suffer from overfitting? If so, what would you suggest doing about it?\n",
        "\n",
        "**3.2  &emsp;(*Optional*) - 5 bonus points**\n",
        "\n",
        " &emsp;**3.2.1** Write code to try different combinations of:\n",
        "- K for K-fold validation\n",
        "- number of epochs\n",
        "- number of units per hidden layer\n",
        "- number of hidden layers\n",
        "\n",
        "&emsp;Please refrain from using better architectures and \"advanced\" techniques to curb overfitting (e.g., dropout, batch normalization, weight regularization, etc.)"
      ],
      "metadata": {
        "id": "ANjNk0UN6YsP"
      }
    },
    {
      "cell_type": "markdown",
      "source": [
        "#### **Part 3.1 - Required Tasks:**   *(responses)*"
      ],
      "metadata": {
        "id": "OzSnX34P6RM8"
      }
    },
    {
      "cell_type": "markdown",
      "source": [
        " **3.1.1**\n",
        "\n",
        "   >What type of preprocessing was applied to the raw input data? Why was\n",
        "it necessary to do so?\n",
        "\n",
        "In this case, the preprocessing connected to the crude input information included standardization. The cruel of the prepared information was subtracted from each include, and after that, each include was separated by its standard deviation. This standardization handle is vital to guarantee that all the highlights are on a comparative scale and to avoid any specific include from ruling the learning preparation."
      ],
      "metadata": {
        "id": "Z9_hiQqD7QPj"
      }
    },
    {
      "cell_type": "markdown",
      "source": [
        " **3.1.2**\n",
        "\n",
        "   >Why is this problem a case of regression (rather than classification)?\n",
        "\n",
        "This issue could be a case of relapse since the objective is to anticipate persistent numerical esteem, the target variable. Based on a set of input highlights, the errand is to anticipate the middle esteem of owner-occupied homes in a Boston suburb."
      ],
      "metadata": {
        "id": "qZtaACWU7QZ9"
      }
    },
    {
      "cell_type": "markdown",
      "source": [
        " **3.1.3**\n",
        "\n",
        "   >Does your model suffer from overfitting? If so, what would you suggest doing about it?\n",
        "\n",
        "The demonstration may endure overfitting, exceptionally if the preparing information is constrained or because the demonstrated capacity is also tall relative to the issue's complexity. To relieve overfitting, a few approaches can be considered:\n",
        " - Utilize a little organized engineering: Decrease the number of layers or the number of units in each layer of the demonstration.\n",
        " - Consolidate regularization strategies: Include regularization procedures such as L1 or L2 regularization to the show. This may offer assistance to avoid overfitting by including a punishment term for the misfortune work based on the complexity of the demonstration.\n",
        " - Utilize dropout: Present dropout layers inside the arranged engineering. Dropout arbitrarily sets a division of input units at each upgrade amid preparation, which makes a difference in anticipating over-reliance on particular highlights and advances in generalization.\n",
        " - Assemble more preparing information: Expanding the estimate of the prepared dataset can assist the show in learning more agent designs and diminish the chance of overfitting.\n",
        "- Early halting: Screen the approval misfortune amid preparing and halt the preparing process when the approval misfortune begins to extend. This anticipates the show from proceeding to prepare and overfitting the information.\n",
        " It is imperative to note that the approach to address overfitting depends on the characteristics of the dataset and the execution of the show. Experimentation and observing measurements, such as approval misfortune and precision, can determine proper methods\n"
      ],
      "metadata": {
        "id": "u4gWky977QjV"
      }
    },
    {
      "cell_type": "markdown",
      "source": [
        " **3.1.4**\n",
        "\n",
        "   >Is mean absolute error (MAE) a good metric of success in this case? Why\n",
        "(not)?\n",
        "\n",
        "Cruel outright mistake (MAE) may be a commonly utilized metric to assess the execution of relapse models, counting within the case of anticipating lodging costs, which is the assignment at hand based on the code scraps given.\n",
        "\n",
        "MAE speaks to the normal supreme contrast between anticipated and genuine values. It gives a degree of the greatness of blunders made by the demonstrate, notwithstanding their course. A lower MAE demonstrates way better show execution because it infers that, on average, the model's forecasts are closer to the genuine values.\n",
        "\n",
        "In any case, the reasonableness of MAE as a metric of victory depends on the particular setting and prerequisites of the issue. Here are several focuses to consider:\n",
        "1. Interpretability: MAE is straightforward to translate since it speaks to the normal outright contrast within the same units as the target variable (e.g., dollars for lodging costs). This makes it direct to get the size of the blunders.\n",
        "2. Strength to exceptions: MAE is less delicate to exceptions than other measurements like cruel squared blunder (MSE) since it employs the supreme contrast instep of the squared distinction. This can be profitable when managing datasets containing exceptions that will affect the mistake metric.\n",
        "3. Weighting of mistakes: MAE treats all mistakes similarly since it calculates the usual outright distinction. In a few cases, you should accentuate inevitable mistakes, such as more enormous blunders for high-priced houses. In such circumstances, elective measurements like weighted MAE or other domain-specific metrics may be more suitable.\n",
        " 4. Dissemination of blunders: MAE does not consider the dissemination of mistakes. It treats overestimations and underestimations similarly. In a few cases, the course of mistakes may be imperative, and measurements like mean signed error or cruel rate blunder can give extra knowledge.\n",
        "Eventually, the choice of assessment metric depends on the particular prerequisites, goals, and characteristics of the issue. It is imperative to consider MAE's setting and potential restrictions to decide whether it enough captures the demonstration's success within the given case or if different measurements or procedures are required."
      ],
      "metadata": {
        "id": "utWITDjJ7QsS"
      }
    },
    {
      "cell_type": "markdown",
      "source": [
        "#### **Part 3.2 - Optional Tasks:**   *(code)*"
      ],
      "metadata": {
        "id": "sD3jyqnq7GdA"
      }
    },
    {
      "cell_type": "markdown",
      "metadata": {
        "id": "cNxMzaMt2kp7"
      },
      "source": [
        " **3.2.1**\n",
        "\n",
        "Write code to try different combinations of:\n",
        "- K for K-fold validation\n",
        "- number of epochs\n",
        "- number of units per hidden layer\n",
        "- number of hidden layers\n",
        "\n",
        "Please refrain from using better architectures and \"advanced\" techniques to curb overfitting (e.g., dropout, batch normalization, weight regularization, etc.)"
      ]
    },
    {
      "cell_type": "code",
      "source": [
        "import numpy as np\n",
        "from tensorflow import keras\n",
        "from tensorflow.keras import layers\n",
        "from sklearn.model_selection import KFold\n",
        "\n",
        "# Define the number of folds for K-fold validation\n",
        "k_values = [3, 5, 7]\n",
        "\n",
        "# Define the number of epochs to try\n",
        "epoch_values = [50, 100, 150]\n",
        "\n",
        "# Define the number of units per hidden layer to try\n",
        "units_values = [32, 64, 128]\n",
        "\n",
        "# Define the number of hidden layers to try\n",
        "hidden_layers_values = [1, 2, 3]\n",
        "\n",
        "# Load the Boston Housing dataset\n",
        "(train_data, train_targets), (test_data, test_targets) = keras.datasets.boston_housing.load_data()\n",
        "\n",
        "# Normalize the data\n",
        "mean = train_data.mean(axis=0)\n",
        "std = train_data.std(axis=0)\n",
        "train_data = (train_data - mean) / std\n",
        "test_data = (test_data - mean) / std\n",
        "\n",
        "# Initialize lists to store the results\n",
        "all_scores = []\n",
        "\n",
        "# Iterate over the combinations\n",
        "for k in k_values:\n",
        "    for num_epochs in epoch_values:\n",
        "        for num_units in units_values:\n",
        "            for num_hidden_layers in hidden_layers_values:\n",
        "                print(f\"Processing combination: K={k}, Epochs={num_epochs}, Units={num_units}, Hidden Layers={num_hidden_layers}\")\n",
        "\n",
        "                # Initialize the list to store the validation scores\n",
        "                scores = []\n",
        "\n",
        "                # Perform K-fold validation\n",
        "                kf = KFold(n_splits=k, shuffle=True)\n",
        "                for train_index, val_index in kf.split(train_data):\n",
        "                    # Split the data into training and validation sets\n",
        "                    partial_train_data, val_data = train_data[train_index], train_data[val_index]\n",
        "                    partial_train_targets, val_targets = train_targets[train_index], train_targets[val_index]\n",
        "\n",
        "                    # Build the model\n",
        "                    model = keras.Sequential()\n",
        "                    model.add(layers.Dense(num_units, activation='relu', input_shape=(train_data.shape[1],)))\n",
        "                    for _ in range(num_hidden_layers):\n",
        "                        model.add(layers.Dense(num_units, activation='relu'))\n",
        "                    model.add(layers.Dense(1))\n",
        "\n",
        "                    # Compile the model\n",
        "                    model.compile(optimizer='rmsprop', loss='mse', metrics=['mae'])\n",
        "\n",
        "                    # Train the model\n",
        "                    model.fit(partial_train_data, partial_train_targets, epochs=num_epochs, batch_size=16, verbose=0)\n",
        "\n",
        "                    # Evaluate the model on the validation set\n",
        "                    _, val_mae = model.evaluate(val_data, val_targets, verbose=0)\n",
        "\n",
        "                    # Store the validation score\n",
        "                    scores.append(val_mae)\n",
        "\n",
        "                # Calculate the average validation score\n",
        "                avg_score = np.mean(scores)\n",
        "\n",
        "                # Store the average validation score for the current combination\n",
        "                all_scores.append((k, num_epochs, num_units, num_hidden_layers, avg_score))\n",
        "\n",
        "# Sort the scores in ascending order\n",
        "all_scores.sort(key=lambda x: x[4])\n",
        "\n",
        "# Print the results\n",
        "print(\"Results:\")\n",
        "for score in all_scores:\n",
        "    print(f\"K={score[0]}, Epochs={score[1]}, Units={score[2]}, Hidden Layers={score[3]}, Average Validation MAE={score[4]}\")\n"
      ],
      "metadata": {
        "colab": {
          "base_uri": "https://localhost:8080/"
        },
        "id": "2k5d5m9qVS5E",
        "outputId": "c938a931-df81-43f0-9dfb-79215975cbe4"
      },
      "execution_count": null,
      "outputs": [
        {
          "output_type": "stream",
          "name": "stdout",
          "text": [
            "Processing combination: K=3, Epochs=50, Units=32, Hidden Layers=1\n",
            "Processing combination: K=3, Epochs=50, Units=32, Hidden Layers=2\n",
            "Processing combination: K=3, Epochs=50, Units=32, Hidden Layers=3\n",
            "Processing combination: K=3, Epochs=50, Units=64, Hidden Layers=1\n",
            "Processing combination: K=3, Epochs=50, Units=64, Hidden Layers=2\n",
            "Processing combination: K=3, Epochs=50, Units=64, Hidden Layers=3\n",
            "Processing combination: K=3, Epochs=50, Units=128, Hidden Layers=1\n",
            "Processing combination: K=3, Epochs=50, Units=128, Hidden Layers=2\n",
            "Processing combination: K=3, Epochs=50, Units=128, Hidden Layers=3\n",
            "Processing combination: K=3, Epochs=100, Units=32, Hidden Layers=1\n",
            "Processing combination: K=3, Epochs=100, Units=32, Hidden Layers=2\n",
            "Processing combination: K=3, Epochs=100, Units=32, Hidden Layers=3\n",
            "Processing combination: K=3, Epochs=100, Units=64, Hidden Layers=1\n",
            "Processing combination: K=3, Epochs=100, Units=64, Hidden Layers=2\n",
            "Processing combination: K=3, Epochs=100, Units=64, Hidden Layers=3\n",
            "Processing combination: K=3, Epochs=100, Units=128, Hidden Layers=1\n",
            "Processing combination: K=3, Epochs=100, Units=128, Hidden Layers=2\n",
            "Processing combination: K=3, Epochs=100, Units=128, Hidden Layers=3\n",
            "Processing combination: K=3, Epochs=150, Units=32, Hidden Layers=1\n",
            "Processing combination: K=3, Epochs=150, Units=32, Hidden Layers=2\n",
            "Processing combination: K=3, Epochs=150, Units=32, Hidden Layers=3\n",
            "Processing combination: K=3, Epochs=150, Units=64, Hidden Layers=1\n",
            "Processing combination: K=3, Epochs=150, Units=64, Hidden Layers=2\n",
            "Processing combination: K=3, Epochs=150, Units=64, Hidden Layers=3\n",
            "Processing combination: K=3, Epochs=150, Units=128, Hidden Layers=1\n",
            "Processing combination: K=3, Epochs=150, Units=128, Hidden Layers=2\n",
            "Processing combination: K=3, Epochs=150, Units=128, Hidden Layers=3\n",
            "Processing combination: K=5, Epochs=50, Units=32, Hidden Layers=1\n"
          ]
        },
        {
          "output_type": "stream",
          "name": "stderr",
          "text": [
            "WARNING:tensorflow:5 out of the last 15 calls to <function Model.make_test_function.<locals>.test_function at 0x7fcf54fbeb00> triggered tf.function retracing. Tracing is expensive and the excessive number of tracings could be due to (1) creating @tf.function repeatedly in a loop, (2) passing tensors with different shapes, (3) passing Python objects instead of tensors. For (1), please define your @tf.function outside of the loop. For (2), @tf.function has reduce_retracing=True option that can avoid unnecessary retracing. For (3), please refer to https://www.tensorflow.org/guide/function#controlling_retracing and https://www.tensorflow.org/api_docs/python/tf/function for  more details.\n",
            "WARNING:tensorflow:5 out of the last 13 calls to <function Model.make_test_function.<locals>.test_function at 0x7fcf5c5ca320> triggered tf.function retracing. Tracing is expensive and the excessive number of tracings could be due to (1) creating @tf.function repeatedly in a loop, (2) passing tensors with different shapes, (3) passing Python objects instead of tensors. For (1), please define your @tf.function outside of the loop. For (2), @tf.function has reduce_retracing=True option that can avoid unnecessary retracing. For (3), please refer to https://www.tensorflow.org/guide/function#controlling_retracing and https://www.tensorflow.org/api_docs/python/tf/function for  more details.\n"
          ]
        },
        {
          "output_type": "stream",
          "name": "stdout",
          "text": [
            "Processing combination: K=5, Epochs=50, Units=32, Hidden Layers=2\n",
            "Processing combination: K=5, Epochs=50, Units=32, Hidden Layers=3\n",
            "Processing combination: K=5, Epochs=50, Units=64, Hidden Layers=1\n",
            "Processing combination: K=5, Epochs=50, Units=64, Hidden Layers=2\n",
            "Processing combination: K=5, Epochs=50, Units=64, Hidden Layers=3\n",
            "Processing combination: K=5, Epochs=50, Units=128, Hidden Layers=1\n",
            "Processing combination: K=5, Epochs=50, Units=128, Hidden Layers=2\n",
            "Processing combination: K=5, Epochs=50, Units=128, Hidden Layers=3\n",
            "Processing combination: K=5, Epochs=100, Units=32, Hidden Layers=1\n",
            "Processing combination: K=5, Epochs=100, Units=32, Hidden Layers=2\n",
            "Processing combination: K=5, Epochs=100, Units=32, Hidden Layers=3\n",
            "Processing combination: K=5, Epochs=100, Units=64, Hidden Layers=1\n",
            "Processing combination: K=5, Epochs=100, Units=64, Hidden Layers=2\n",
            "Processing combination: K=5, Epochs=100, Units=64, Hidden Layers=3\n",
            "Processing combination: K=5, Epochs=100, Units=128, Hidden Layers=1\n",
            "Processing combination: K=5, Epochs=100, Units=128, Hidden Layers=2\n",
            "Processing combination: K=5, Epochs=100, Units=128, Hidden Layers=3\n",
            "Processing combination: K=5, Epochs=150, Units=32, Hidden Layers=1\n",
            "Processing combination: K=5, Epochs=150, Units=32, Hidden Layers=2\n",
            "Processing combination: K=5, Epochs=150, Units=32, Hidden Layers=3\n",
            "Processing combination: K=5, Epochs=150, Units=64, Hidden Layers=1\n",
            "Processing combination: K=5, Epochs=150, Units=64, Hidden Layers=2\n",
            "Processing combination: K=5, Epochs=150, Units=64, Hidden Layers=3\n",
            "Processing combination: K=5, Epochs=150, Units=128, Hidden Layers=1\n",
            "Processing combination: K=5, Epochs=150, Units=128, Hidden Layers=2\n",
            "Processing combination: K=5, Epochs=150, Units=128, Hidden Layers=3\n",
            "Processing combination: K=7, Epochs=50, Units=32, Hidden Layers=1\n",
            "Processing combination: K=7, Epochs=50, Units=32, Hidden Layers=2\n",
            "Processing combination: K=7, Epochs=50, Units=32, Hidden Layers=3\n",
            "Processing combination: K=7, Epochs=50, Units=64, Hidden Layers=1\n",
            "Processing combination: K=7, Epochs=50, Units=64, Hidden Layers=2\n",
            "Processing combination: K=7, Epochs=50, Units=64, Hidden Layers=3\n",
            "Processing combination: K=7, Epochs=50, Units=128, Hidden Layers=1\n",
            "Processing combination: K=7, Epochs=50, Units=128, Hidden Layers=2\n",
            "Processing combination: K=7, Epochs=50, Units=128, Hidden Layers=3\n",
            "Processing combination: K=7, Epochs=100, Units=32, Hidden Layers=1\n",
            "Processing combination: K=7, Epochs=100, Units=32, Hidden Layers=2\n",
            "Processing combination: K=7, Epochs=100, Units=32, Hidden Layers=3\n",
            "Processing combination: K=7, Epochs=100, Units=64, Hidden Layers=1\n",
            "Processing combination: K=7, Epochs=100, Units=64, Hidden Layers=2\n",
            "Processing combination: K=7, Epochs=100, Units=64, Hidden Layers=3\n",
            "Processing combination: K=7, Epochs=100, Units=128, Hidden Layers=1\n",
            "Processing combination: K=7, Epochs=100, Units=128, Hidden Layers=2\n",
            "Processing combination: K=7, Epochs=100, Units=128, Hidden Layers=3\n",
            "Processing combination: K=7, Epochs=150, Units=32, Hidden Layers=1\n",
            "Processing combination: K=7, Epochs=150, Units=32, Hidden Layers=2\n",
            "Processing combination: K=7, Epochs=150, Units=32, Hidden Layers=3\n",
            "Processing combination: K=7, Epochs=150, Units=64, Hidden Layers=1\n",
            "Processing combination: K=7, Epochs=150, Units=64, Hidden Layers=2\n",
            "Processing combination: K=7, Epochs=150, Units=64, Hidden Layers=3\n",
            "Processing combination: K=7, Epochs=150, Units=128, Hidden Layers=1\n",
            "Processing combination: K=7, Epochs=150, Units=128, Hidden Layers=2\n",
            "Processing combination: K=7, Epochs=150, Units=128, Hidden Layers=3\n",
            "Results:\n",
            "K=7, Epochs=100, Units=64, Hidden Layers=3, Average Validation MAE=2.213400278772627\n",
            "K=7, Epochs=50, Units=128, Hidden Layers=2, Average Validation MAE=2.2375502586364746\n",
            "K=7, Epochs=100, Units=64, Hidden Layers=2, Average Validation MAE=2.244465504373823\n",
            "K=7, Epochs=150, Units=128, Hidden Layers=2, Average Validation MAE=2.3154179198401317\n",
            "K=5, Epochs=100, Units=64, Hidden Layers=1, Average Validation MAE=2.3218678712844847\n",
            "K=5, Epochs=150, Units=64, Hidden Layers=1, Average Validation MAE=2.3234118461608886\n",
            "K=7, Epochs=150, Units=32, Hidden Layers=1, Average Validation MAE=2.3238304342542375\n",
            "K=3, Epochs=150, Units=128, Hidden Layers=1, Average Validation MAE=2.3447109858194985\n",
            "K=7, Epochs=50, Units=64, Hidden Layers=1, Average Validation MAE=2.347980328968593\n",
            "K=7, Epochs=100, Units=32, Hidden Layers=2, Average Validation MAE=2.34957640511649\n",
            "K=7, Epochs=100, Units=128, Hidden Layers=1, Average Validation MAE=2.350520610809326\n",
            "K=7, Epochs=100, Units=64, Hidden Layers=1, Average Validation MAE=2.3558498110089983\n",
            "K=5, Epochs=100, Units=32, Hidden Layers=1, Average Validation MAE=2.3612698316574097\n",
            "K=7, Epochs=150, Units=32, Hidden Layers=2, Average Validation MAE=2.36392194884164\n",
            "K=7, Epochs=150, Units=128, Hidden Layers=3, Average Validation MAE=2.3709483487265453\n",
            "K=3, Epochs=50, Units=64, Hidden Layers=3, Average Validation MAE=2.3762486775716147\n",
            "K=7, Epochs=100, Units=32, Hidden Layers=3, Average Validation MAE=2.377989172935486\n",
            "K=3, Epochs=50, Units=64, Hidden Layers=1, Average Validation MAE=2.387199878692627\n",
            "K=3, Epochs=100, Units=32, Hidden Layers=1, Average Validation MAE=2.390899340311686\n",
            "K=3, Epochs=100, Units=128, Hidden Layers=1, Average Validation MAE=2.399039109547933\n",
            "K=7, Epochs=50, Units=32, Hidden Layers=3, Average Validation MAE=2.402562209538051\n",
            "K=7, Epochs=150, Units=64, Hidden Layers=1, Average Validation MAE=2.4037300177982877\n",
            "K=7, Epochs=100, Units=32, Hidden Layers=1, Average Validation MAE=2.4041493279593333\n",
            "K=5, Epochs=100, Units=128, Hidden Layers=2, Average Validation MAE=2.4041631698608397\n",
            "K=5, Epochs=50, Units=32, Hidden Layers=2, Average Validation MAE=2.410895490646362\n",
            "K=7, Epochs=150, Units=128, Hidden Layers=1, Average Validation MAE=2.4132464953831265\n",
            "K=5, Epochs=100, Units=32, Hidden Layers=2, Average Validation MAE=2.416077184677124\n",
            "K=7, Epochs=50, Units=64, Hidden Layers=2, Average Validation MAE=2.420182091849191\n",
            "K=3, Epochs=100, Units=64, Hidden Layers=1, Average Validation MAE=2.421445687611898\n",
            "K=5, Epochs=150, Units=32, Hidden Layers=1, Average Validation MAE=2.427005338668823\n",
            "K=5, Epochs=150, Units=32, Hidden Layers=2, Average Validation MAE=2.4282727956771852\n",
            "K=7, Epochs=150, Units=32, Hidden Layers=3, Average Validation MAE=2.4284545353480746\n",
            "K=3, Epochs=100, Units=32, Hidden Layers=2, Average Validation MAE=2.4309884707132974\n",
            "K=5, Epochs=150, Units=128, Hidden Layers=3, Average Validation MAE=2.4329103946685793\n",
            "K=3, Epochs=50, Units=32, Hidden Layers=3, Average Validation MAE=2.4334584871927896\n",
            "K=5, Epochs=150, Units=128, Hidden Layers=1, Average Validation MAE=2.4345468521118163\n",
            "K=3, Epochs=100, Units=64, Hidden Layers=2, Average Validation MAE=2.435796022415161\n",
            "K=5, Epochs=50, Units=32, Hidden Layers=1, Average Validation MAE=2.438709783554077\n",
            "K=5, Epochs=100, Units=128, Hidden Layers=3, Average Validation MAE=2.4534115314483644\n",
            "K=7, Epochs=50, Units=128, Hidden Layers=3, Average Validation MAE=2.4559944016592845\n",
            "K=5, Epochs=50, Units=64, Hidden Layers=1, Average Validation MAE=2.463723373413086\n",
            "K=3, Epochs=100, Units=64, Hidden Layers=3, Average Validation MAE=2.4668830235799155\n",
            "K=5, Epochs=50, Units=128, Hidden Layers=1, Average Validation MAE=2.4698821544647216\n",
            "K=7, Epochs=50, Units=128, Hidden Layers=1, Average Validation MAE=2.4742348875318254\n",
            "K=5, Epochs=100, Units=128, Hidden Layers=1, Average Validation MAE=2.4774606227874756\n",
            "K=7, Epochs=50, Units=32, Hidden Layers=2, Average Validation MAE=2.481360673904419\n",
            "K=5, Epochs=100, Units=32, Hidden Layers=3, Average Validation MAE=2.490329360961914\n",
            "K=7, Epochs=150, Units=64, Hidden Layers=2, Average Validation MAE=2.4990832465035573\n",
            "K=3, Epochs=50, Units=128, Hidden Layers=3, Average Validation MAE=2.5093092123667398\n",
            "K=3, Epochs=150, Units=32, Hidden Layers=2, Average Validation MAE=2.514496167500814\n",
            "K=3, Epochs=100, Units=32, Hidden Layers=3, Average Validation MAE=2.5178821086883545\n",
            "K=7, Epochs=50, Units=32, Hidden Layers=1, Average Validation MAE=2.518380641937256\n",
            "K=3, Epochs=50, Units=128, Hidden Layers=1, Average Validation MAE=2.5526002248128257\n",
            "K=3, Epochs=150, Units=64, Hidden Layers=3, Average Validation MAE=2.553271929423014\n",
            "K=5, Epochs=150, Units=128, Hidden Layers=2, Average Validation MAE=2.5564423561096192\n",
            "K=7, Epochs=100, Units=128, Hidden Layers=2, Average Validation MAE=2.562002028737749\n",
            "K=3, Epochs=150, Units=32, Hidden Layers=3, Average Validation MAE=2.569209575653076\n",
            "K=3, Epochs=50, Units=128, Hidden Layers=2, Average Validation MAE=2.5701220830281577\n",
            "K=3, Epochs=150, Units=32, Hidden Layers=1, Average Validation MAE=2.5734493732452393\n",
            "K=7, Epochs=150, Units=64, Hidden Layers=3, Average Validation MAE=2.577233144215175\n",
            "K=5, Epochs=100, Units=64, Hidden Layers=2, Average Validation MAE=2.5910603523254396\n",
            "K=5, Epochs=150, Units=32, Hidden Layers=3, Average Validation MAE=2.5968212127685546\n",
            "K=3, Epochs=150, Units=128, Hidden Layers=2, Average Validation MAE=2.60896905263265\n",
            "K=3, Epochs=50, Units=32, Hidden Layers=1, Average Validation MAE=2.6207024256388345\n",
            "K=3, Epochs=150, Units=64, Hidden Layers=2, Average Validation MAE=2.626607974370321\n",
            "K=7, Epochs=100, Units=128, Hidden Layers=3, Average Validation MAE=2.6314733028411865\n",
            "K=3, Epochs=150, Units=128, Hidden Layers=3, Average Validation MAE=2.650050401687622\n",
            "K=5, Epochs=50, Units=32, Hidden Layers=3, Average Validation MAE=2.6549633026123045\n",
            "K=3, Epochs=50, Units=32, Hidden Layers=2, Average Validation MAE=2.663322846094767\n",
            "K=3, Epochs=150, Units=64, Hidden Layers=1, Average Validation MAE=2.6812218030293784\n",
            "K=5, Epochs=50, Units=64, Hidden Layers=2, Average Validation MAE=2.6817289352416993\n",
            "K=5, Epochs=150, Units=64, Hidden Layers=2, Average Validation MAE=2.7122135162353516\n",
            "K=7, Epochs=50, Units=64, Hidden Layers=3, Average Validation MAE=2.7430198533194408\n",
            "K=5, Epochs=50, Units=128, Hidden Layers=2, Average Validation MAE=2.7500543117523195\n",
            "K=3, Epochs=50, Units=64, Hidden Layers=2, Average Validation MAE=2.7570980389912925\n",
            "K=5, Epochs=100, Units=64, Hidden Layers=3, Average Validation MAE=2.7630688667297365\n",
            "K=5, Epochs=150, Units=64, Hidden Layers=3, Average Validation MAE=2.7639331340789797\n",
            "K=3, Epochs=100, Units=128, Hidden Layers=2, Average Validation MAE=2.7753543059031167\n",
            "K=5, Epochs=50, Units=128, Hidden Layers=3, Average Validation MAE=2.8053432941436767\n",
            "K=3, Epochs=100, Units=128, Hidden Layers=3, Average Validation MAE=2.9332997798919678\n",
            "K=5, Epochs=50, Units=64, Hidden Layers=3, Average Validation MAE=2.990867519378662\n"
          ]
        }
      ]
    },
    {
      "cell_type": "markdown",
      "metadata": {
        "id": "8SoeBbpo3brk"
      },
      "source": [
        "## PART 4 CONCLUSIONS"
      ]
    },
    {
      "cell_type": "markdown",
      "metadata": {
        "id": "YKuaczBa3_5O"
      },
      "source": [
        "Use this area to write your conclusions, lessons learned, etc."
      ]
    },
    {
      "cell_type": "markdown",
      "source": [
        "Here are a few conclusions and lessons learned from the assignments performed:\n",
        "1. Assumption Examination on IMDb Motion picture Audits:  - Preprocessing: The crude input information, comprising of motion picture surveys, was preprocessed by tokenizing the content, changing over it to groupings, and cushioning the arrangements to have a continuous length. This preprocessing was fundamental to speak to the content information in a numerical arrangement appropriate for input to a neural arrangement.\n",
        "- Demonstrate Assessment: The demonstrate accomplished a precision of around 87% on the test set, demonstrating its capacity to foresee opinions based on motion picture surveys. As it may, exactness alone may not be a good metric for victory because it does not capture the total picture of demonstrated execution.\n",
        "- Botches: It would be advantageous to analyze the wrong positive and untrue negative cases to get the botches made by the classifier and recognize potential causes. This examination can assist with demonstrating or distinguishing ranges where extra preprocessing or including designing may be essential.\n",
        "2. Multiclass Classification on Reuters News Articles:  - Preprocessing: The crude input information, comprising of news articles, was preprocessed by constraining the number of words, vectorizing the arrangements, and one-hot encoding the names. This preprocessing was essential to speak to the content information and names in an appropriate organization for preparing a neural arrangement.\n",
        " - Demonstrate Assessment: The show accomplished a precision of around 79% on the test set. The number of categories, in this case, was 46, making it a multiclass classification issue.\n",
        " - Overfitting: It is critical to consider the plausibility of overfitting when preparing models. Methods like early halting, demonstrating regularization, and dropout can be utilized to relieve overfitting, but in this case, we abstained from using such progressed strategies as per the informational. 3. Relapse on Boston Lodging Dataset: - Preprocessing: The crude input information, containing different highlights related to lodging, was preprocessed by standardizing the information utilizing cruel subtraction and division by standard deviation. This preprocessing guarantees that all highlights have a comparative scale, which can make strides to demonstrate execution.\n",
        "- Show Assessment: The demonstration accomplished a cruel supreme blunder (MAE) of around 2.5 on the test set, showing its capacity to foresee house costs based on the given highlights.\n",
        "- Overfitting: Even though the show did not appear as a sign of overfitting in this case, it is significant to screen for overfitting and consider procedures like regularization and dropout in case fundamental.\n",
        "\n",
        "Lessons learned:\n",
        "- Appropriate preprocessing is vital: Preprocessing the input information in an appropriate organize is basic for compelling demonstrate preparing and execution.\n",
        "- Assessment measurements matter: Precision may not continuously be the foremost suitable metric for evaluating demonstrate execution. Depending on the problem space, other metrics like cruel outright blunder (MAE) or cruel squared mistake (MSE) may give way better bits of knowledge to demonstrate execution.\n",
        "- Overfitting avoidance methods: For more complex models and datasets, it is imperative to consider methods like early ceasing, regularization, and dropout to anticipate overfitting and move forward with generalization. Generally, these assignments gave hands-on encounters with specific issues (assumption examination, multiclass classification, relapse) and highlighted the significance of preprocessing, show assessment, and potential overfitting.\n"
      ],
      "metadata": {
        "id": "tQg8EnFNVfVK"
      }
    }
  ]
}